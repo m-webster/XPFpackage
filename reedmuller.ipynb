{
 "cells": [
  {
   "cell_type": "markdown",
   "source": [
    "# Reed Muller Codes\r\n",
    "This notebook illustrates the application of the logical operator algorithm for Reed Muller codes.\r\n",
    "\r\n",
    "## Reed Muller parameters\r\n",
    "You can run the code on various different Reed Muller codes using the following parameters:\r\n",
    "- $m > 0$ determines the number of qubits - without punctures, the code is on $2^m$ qubits\r\n",
    "- $r \\le m$ determines the number of X genreators - $|S_X| = \\sum_{0 \\le i \\le r} \\binom{m}{i}$\r\n",
    "- $p$ is the number of punctures and influences the number of logical qubits.\r\n",
    "\r\n",
    "## Code Operation\r\n",
    "A Reed Muller code is generated as a CSS code based on the parameters. The logical X and Z operators are then generated.\r\n",
    "\r\n",
    "The natural precision of the code is then calculated by looking at the maximum precision at which the code is self-dual.\r\n",
    "\r\n",
    "We then change the precision of the code and determine the logical operators - in general, additional diagonal logical operators are found which may be higher in the Clifford heirarchy. The $f$ vector gives the phase applied to each codeword (ie the logical action).\r\n",
    "\r\n",
    "## Results"
   ],
   "metadata": {}
  },
  {
   "cell_type": "code",
   "execution_count": 4,
   "source": [
    "from reedmuller import *\r\n",
    "from common import *\r\n",
    "from XPAlgebra import *\r\n",
    "\r\n",
    "## Reed Muller parameters\r\n",
    "## m determines the number of qubits - without punctures, the code is on 2^m qubits\r\n",
    "m = 4\r\n",
    "## r determines the number of X genreators - |SX| = \\sum_{0 \\le i le r} \\binom{m}{i}\r\n",
    "r = 1\r\n",
    "# p is the number of punctures - remove the first p columns and rows\r\n",
    "p = 1\r\n",
    "## set debugging level\r\n",
    "setVerbose(False)\r\n",
    "\r\n",
    "\r\n",
    "def codeSummary(G,N):\r\n",
    "    ## make an XP code\r\n",
    "    C = Code(G,N)\r\n",
    "    LO = getVal(C,'LO')\r\n",
    "    print(f'Logical Operators: Precision N={N}')\r\n",
    "    if len(LO) > 0:\r\n",
    "        for A in LO:\r\n",
    "            print(XP2Str(A,N),'f vector',ZMat2str(C.Fvector(A),max(11,2*N)))\r\n",
    "    else:\r\n",
    "        print('None')\r\n",
    "\r\n",
    "if checkParameters(m,r,p):\r\n",
    "    print(f'Reed Muller code with parameters m={m}, r={r}, p={p}')\r\n",
    "    ## We are building a CSS code:\r\n",
    "    ## X components of non-diagonal generators\r\n",
    "    SXx = RM(r,m,p)\r\n",
    "    ## Z components of diag generators - this is dual to SXx\r\n",
    "    SZz = RM(m-r-1,m,p)\r\n",
    "    ## set precision\r\n",
    "    N = 2\r\n",
    "    ## make generators\r\n",
    "    SX = makeXP(0,SXx,0)\r\n",
    "    SZ = makeXP(0,0,SZz)\r\n",
    "    G = np.vstack([SX,SZ])\r\n",
    "\r\n",
    "    print('Stabilizer Generators')\r\n",
    "    print(XP2Str(G,N),\"\\n\")\r\n",
    "\r\n",
    "    codeSummary(G,N)\r\n",
    "    P = self_dual(SXx)\r\n",
    "    if P > 1:\r\n",
    "        N2 = P*2\r\n",
    "        print('Natural precision N =',N2)\r\n",
    "        G = XPSetN(G,N,N2)\r\n",
    "        codeSummary(G,N2)"
   ],
   "outputs": [
    {
     "output_type": "stream",
     "name": "stdout",
     "text": [
      "Maximum value of p= 5\n",
      "Reed Muller code with parameters m=4, r=1, p=1\n",
      "Generators\n",
      "XP_2(0|100011100011101|000000000000000)\n",
      "XP_2(0|010010011011011|000000000000000)\n",
      "XP_2(0|001001010110111|000000000000000)\n",
      "XP_2(0|000100101101111|000000000000000)\n",
      "XP_2(0|000000000000000|100011100011101)\n",
      "XP_2(0|000000000000000|010010011011011)\n",
      "XP_2(0|000000000000000|001001010110111)\n",
      "XP_2(0|000000000000000|000100101101111)\n",
      "XP_2(0|000000000000000|000010000011001)\n",
      "XP_2(0|000000000000000|000001000010101)\n",
      "XP_2(0|000000000000000|000000100001101)\n",
      "XP_2(0|000000000000000|000000010010011)\n",
      "XP_2(0|000000000000000|000000001001011)\n",
      "XP_2(0|000000000000000|000000000100111) \n",
      "\n",
      "Logical Operators: Precision N=2\n",
      "XP_2(0|000011111100001|000000000000000) f vector  0  0\n",
      "XP_2(0|000000000000000|100000000000011) f vector  0  2\n",
      "XP_2(0|000000000000000|010000000000101) f vector  0  2\n",
      "XP_2(0|000000000000000|001000000001001) f vector  0  2\n",
      "XP_2(0|000000000000000|000010000000110) f vector  0  2\n",
      "XP_2(0|000000000000000|000001000001010) f vector  0  2\n",
      "XP_2(0|000000000000000|000000010001100) f vector  0  2\n",
      "XP_2(0|000000000000000|000000000011111) f vector  0  2\n",
      "Natural precision N = 8\n",
      "Logical Operators: Precision N=8\n",
      "XP_8( 0|000011111100001|000000000000000) f vector  0  0\n",
      "XP_8( 0|000000000000000|111111111111111) f vector  0 14\n",
      "XP_8( 0|000000000000000|020002200222020) f vector  0 12\n",
      "XP_8( 0|000000000000000|000022222200002) f vector  0 12\n",
      "XP_8( 0|000000000000000|000004000004040) f vector  0  8\n",
      "XP_8( 0|000000000000000|000000040004400) f vector  0  8\n",
      "XP_8( 0|000000000000000|000000000044444) f vector  0  8\n"
     ]
    }
   ],
   "metadata": {}
  },
  {
   "cell_type": "code",
   "execution_count": null,
   "source": [],
   "outputs": [],
   "metadata": {}
  },
  {
   "cell_type": "code",
   "execution_count": null,
   "source": [],
   "outputs": [],
   "metadata": {}
  },
  {
   "cell_type": "code",
   "execution_count": null,
   "source": [],
   "outputs": [],
   "metadata": {}
  }
 ],
 "metadata": {
  "orig_nbformat": 4,
  "language_info": {
   "name": "python",
   "version": "3.8.7"
  },
  "kernelspec": {
   "name": "python3",
   "display_name": "Python 3.8.7 64-bit"
  },
  "interpreter": {
   "hash": "93ecb60a143ed30565570a02d52015ed90447d3eff4b9455aa518b6d74e1c511"
  }
 },
 "nbformat": 4,
 "nbformat_minor": 2
}