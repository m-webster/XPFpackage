{
 "cells": [
  {
   "cell_type": "code",
   "execution_count": 1,
   "source": [
    "import numpy as np\r\n",
    "from common import *\r\n",
    "from NSpace import *\r\n",
    "from XPAlgebra import *\r\n",
    "from codes import *\r\n"
   ],
   "outputs": [],
   "metadata": {}
  },
  {
   "cell_type": "markdown",
   "source": [
    "# XP Operator Format\r\n",
    "XP operators are generally entered as comma delimited strings.\r\n",
    "\r\n",
    "For calculations, XP operators are represented as integer numpy arrays, and lists of operators are 2D numpy arrays. We transform from the string format using the Str2XP function. This yields the operators in numpy array format as well as the precision of the operators.\r\n",
    "\r\n",
    "We print XP operators by using the XP2Str function.\r\n",
    "\r\n",
    "Use setVerbose(True) to print debugging messages in the code."
   ],
   "metadata": {}
  },
  {
   "cell_type": "code",
   "execution_count": 2,
   "source": [
    "\r\n",
    "setVerbose(True)\r\n",
    "\r\n",
    "## Code 1\r\n",
    "genstr = 'XP_8(8|0000000|6554444),XP_8(7|1111111|1241234),XP_8(1|1110000|3134444)'\r\n",
    "\r\n",
    "## Code 2\r\n",
    "genstr = 'XP8(0|0000000|1322224)\\nXP8(12|1111111|1234567)'\r\n",
    "\r\n",
    "print('Generators input in comma delimited string format')\r\n",
    "print(genstr)\r\n",
    "G, N = str2XP(genstr)\r\n",
    "print('Generators in numpy array format')\r\n",
    "print(G)\r\n",
    "print('Generators converted back to string format for printing')\r\n",
    "print(XP2Str(G,N))"
   ],
   "outputs": [
    {
     "output_type": "stream",
     "name": "stdout",
     "text": [
      "Generators input in comma delimited string format\n",
      "XP_8(8|0000000|6554444),XP_8(7|1111111|1241234),XP_8(1|1110000|3134444)\n",
      "Generators in numpy array format\n",
      "[[8 0 0 0 0 0 0 0 6 5 5 4 4 4 4]\n",
      " [7 1 1 1 1 1 1 1 1 2 4 1 2 3 4]\n",
      " [1 1 1 1 0 0 0 0 3 1 3 4 4 4 4]]\n",
      "Generators converted back to string format for printing\n",
      "XP_8( 8|0000000|6554444)\n",
      "XP_8( 7|1111111|1241234)\n",
      "XP_8( 1|1110000|3134444)\n"
     ]
    }
   ],
   "metadata": {}
  },
  {
   "cell_type": "markdown",
   "source": [
    "# Code Class\r\n",
    "XP codes are represented by the code class. To create a new XP code, we pass the generators G in numpy array format, as well as the precision N.\r\n",
    "\r\n",
    "## GetVal Function\r\n",
    "Some properties of codes, for instance the Canonical Generators, require some computer time to calculate and are used repeatedly. To calculate store such properties in the code object, we use the getVal function. This function checks if the property has already been calculated - if so it returns the already calculated value; if not it calculates and stores the value for later use.\r\n",
    "\r\n",
    "## Self-Checking Functions\r\n",
    "Most functions are \"self-checking\" - by passing in the result as an optional C value, the function returns True or False depending on whether the value C meets the testing criteria for the function.\r\n",
    "\r\n",
    "## Function Admissible\r\n",
    "The function Admissible checks if there are any operators which have fundamental phase not equal to zero.\r\n"
   ],
   "metadata": {}
  },
  {
   "cell_type": "code",
   "execution_count": 3,
   "source": [
    "C = Code(G,N)\r\n",
    "S = getVal(C,'S')\r\n",
    "print('CanonicalGenerators')\r\n",
    "print(XP2Str(S,N))\r\n",
    "print('Checking CanonicalGenerators:',CanonicalGenerators(G,N,C=S))\r\n",
    "print('Admissible',Admissible(S,N))"
   ],
   "outputs": [
    {
     "output_type": "stream",
     "name": "stdout",
     "text": [
      "CanonicalGenerators\n",
      "XP_8( 9|1110000|1240000)\n",
      "XP_8(14|0001111|0001234)\n",
      "XP_8( 8|0000000|2334444)\n",
      "XP_8( 0|0000000|0440000)\n",
      "Checking CanonicalGenerators: True\n",
      "Admissible True\n"
     ]
    }
   ],
   "metadata": {}
  },
  {
   "cell_type": "markdown",
   "source": [
    "# Calculating Orbit Representatives $E_m$\r\n",
    "Orbit representatives are calculated from the diagonal canonical generators Sz. The steps are as follows:\r\n",
    "1. Let li be the list of leading indices of Sx (matrix formed from the X components of the non-diagional canonical generators)\r\n",
    "2. Form a matrix Szp from the Z components and phase components of the Sz. For there to be a valid solution, all phase components must be a multiple of 2. We divide the phase components by 2 to ensure they are modulo N (same as the Z component).\r\n",
    "3. Determine the kernel modulo N of Szp, K. Remove the last column of K and any zero rows.\r\n",
    "4. Use a graph search algorithm to find vectors a such that x = aK mod N is a binary vector. Ensure that entries x[i] = 0 for i in li. \r\n",
    "5. Let A be the matrix formed from the solutions a. Then Em = AK mod N. "
   ],
   "metadata": {}
  },
  {
   "cell_type": "code",
   "execution_count": 4,
   "source": [
    "\r\n",
    "Em = getVal(C,'Em')\r\n",
    "print('Em')\r\n",
    "print(\"\\n\".join(ZMat2str(Em,2)))"
   ],
   "outputs": [
    {
     "output_type": "stream",
     "name": "stdout",
     "text": [
      "li [0, 3]\n",
      "Szp\n",
      "23344444\n",
      "04400000\n",
      "K\n",
      "1020000\n",
      "0130000\n",
      "0040000\n",
      "0001000\n",
      "0000100\n",
      "0000010\n",
      "0000001\n",
      "A\n",
      "0020000\n",
      "0020001\n",
      "0020010\n",
      "0020011\n",
      "0020100\n",
      "0020101\n",
      "0020110\n",
      "0020111\n",
      "Em\n",
      "0000000\n",
      "0000001\n",
      "0000010\n",
      "0000011\n",
      "0000100\n",
      "0000101\n",
      "0000110\n",
      "0000111\n"
     ]
    }
   ],
   "metadata": {}
  },
  {
   "cell_type": "markdown",
   "source": [
    "# Calculating the Code Words\r\n",
    "The process for calculating the codewords is:\r\n",
    "1. Calculate the Em (see above)\r\n",
    "2. Calculate the orbit operator OSx\r\n",
    "3. The codeword |k_i> = OSx|m_i> for m_i in Em"
   ],
   "metadata": {}
  },
  {
   "cell_type": "code",
   "execution_count": 5,
   "source": [
    "CW = getVal(C,'Codewords')\r\n",
    "print('Codewords')\r\n",
    "for c in CW:\r\n",
    "    print(State2Str(c,N))"
   ],
   "outputs": [
    {
     "output_type": "stream",
     "name": "stdout",
     "text": [
      "OSx\n",
      "XP_8( 0|0000000|0000000)\n",
      "XP_8( 9|1110000|1240000)\n",
      "XP_8(14|0001111|0001234)\n",
      "XP_8( 7|1111111|1241234)\n",
      "Codewords\n",
      "w0/16|0000000>+w14/16|0001111>+w9/16|1110000>+w7/16|1111111>\n",
      "w0/16|0000001>+w6/16|0001110>+w9/16|1110001>+w15/16|1111110>\n",
      "w0/16|0000010>+w4/16|0001101>+w9/16|1110010>+w13/16|1111101>\n",
      "w0/16|0000011>+w12/16|0001100>+w9/16|1110011>+w5/16|1111100>\n",
      "w0/16|0000100>+w2/16|0001011>+w9/16|1110100>+w11/16|1111011>\n",
      "w0/16|0000101>+w10/16|0001010>+w9/16|1110101>+w3/16|1111010>\n",
      "w0/16|0000110>+w8/16|0001001>+w9/16|1110110>+w1/16|1111001>\n",
      "w0/16|0000111>+w0/16|0001000>+w9/16|1110111>+w9/16|1111000>\n"
     ]
    }
   ],
   "metadata": {}
  },
  {
   "cell_type": "markdown",
   "source": [
    "# Calclating the Core Eq and Lx\r\n",
    "To calculate the core Eq, we find the coset decomposition of Em so that Em = Eq + < Lx>. T = < Lx> is the set of binary vectors x such that x + Em = Em:"
   ],
   "metadata": {}
  },
  {
   "cell_type": "code",
   "execution_count": 6,
   "source": [
    "Eq = getVal(C,'Eq')\r\n",
    "print('Eq')\r\n",
    "print(ZmatPrint(Eq,2))\r\n"
   ],
   "outputs": [
    {
     "output_type": "stream",
     "name": "stdout",
     "text": [
      "T\n",
      "0000001\n",
      "0000010\n",
      "0000011\n",
      "0000100\n",
      "0000101\n",
      "0000110\n",
      "0000111\n",
      "Lx is RREF(T)\n",
      "0000100\n",
      "0000010\n",
      "0000001\n",
      "Eq\n",
      "0000000\n"
     ]
    }
   ],
   "metadata": {}
  }
 ],
 "metadata": {
  "orig_nbformat": 4,
  "language_info": {
   "name": "python",
   "version": "3.8.7",
   "mimetype": "text/x-python",
   "codemirror_mode": {
    "name": "ipython",
    "version": 3
   },
   "pygments_lexer": "ipython3",
   "nbconvert_exporter": "python",
   "file_extension": ".py"
  },
  "kernelspec": {
   "name": "python3",
   "display_name": "Python 3.8.7 64-bit"
  },
  "interpreter": {
   "hash": "93ecb60a143ed30565570a02d52015ed90447d3eff4b9455aa518b6d74e1c511"
  }
 },
 "nbformat": 4,
 "nbformat_minor": 2
}