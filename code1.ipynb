{
 "cells": [
  {
   "cell_type": "code",
   "execution_count": 1,
   "source": [
    "import numpy as np\r\n",
    "from common import *\r\n",
    "from NSpace import *\r\n",
    "from XPAlgebra import *\r\n",
    "from codes import *\r\n"
   ],
   "outputs": [],
   "metadata": {}
  },
  {
   "cell_type": "markdown",
   "source": [
    "# XP Operator Format\r\n",
    "XP operators are generally entered as comma delimited strings.\r\n",
    "\r\n",
    "For calculations, XP operators are represented as integer numpy arrays, and lists of operators are 2D numpy arrays. We transform from the string format using the Str2XP function. This yields the operators in numpy array format as well as the precision of the operators.\r\n",
    "\r\n",
    "We print XP operators by using the XP2Str function.\r\n",
    "\r\n",
    "Use setVerbose(True) to print debugging messages in the code."
   ],
   "metadata": {}
  },
  {
   "cell_type": "code",
   "execution_count": 2,
   "source": [
    "\r\n",
    "setVerbose(True)\r\n",
    "\r\n",
    "## Code 1\r\n",
    "genstr = 'XP_8(8|0000000|6554444),XP_8(7|1111111|1241234),XP_8(1|1110000|3134444)'\r\n",
    "\r\n",
    "## Code 2\r\n",
    "genstr = 'XP8(0|0000000|1322224)\\nXP8(12|1111111|1234567)'\r\n",
    "\r\n",
    "report('Generators input in comma delimited string format')\r\n",
    "report(genstr,\"\\n\")\r\n",
    "G, N = str2XP(genstr)\r\n",
    "report('Generators in numpy array format')\r\n",
    "report(G,\"\\n\")\r\n",
    "report('Generators converted back to string format for printing')\r\n",
    "report(XP2Str(G,N),\"\\n\")"
   ],
   "outputs": [
    {
     "output_type": "stream",
     "name": "stdout",
     "text": [
      "Generators input in comma delimited string format\n",
      "XP8(0|0000000|1322224)\n",
      "XP8(12|1111111|1234567) \n",
      "\n",
      "Generators in numpy array format\n",
      "[[ 0  0  0  0  0  0  0  0  1  3  2  2  2  2  4]\n",
      " [12  1  1  1  1  1  1  1  1  2  3  4  5  6  7]] \n",
      "\n",
      "Generators converted back to string format for printing\n",
      "XP_8( 0|0000000|1322224)\n",
      "XP_8(12|1111111|1234567) \n",
      "\n"
     ]
    }
   ],
   "metadata": {}
  },
  {
   "cell_type": "markdown",
   "source": [
    "# Code Class\r\n",
    "XP codes are represented by the code class. To create a new XP code, we pass the generators G in numpy array format, as well as the precision N.\r\n",
    "\r\n",
    "## GetVal Function\r\n",
    "Some properties of codes, for instance the Canonical Generators, require some computer time to calculate and are used repeatedly. To calculate store such properties in the code object, we use the getVal function. This function checks if the property has already been calculated - if so it returns the already calculated value; if not it calculates and stores the value for later use.\r\n",
    "\r\n",
    "## Self-Checking Functions\r\n",
    "Most functions are \"self-checking\" - by passing in the result as an optional C value, the function returns True or False depending on whether the value C meets the testing criteria for the function.\r\n",
    "\r\n",
    "## Function Admissible\r\n",
    "The function Admissible checks if there are any operators which have fundamental phase not equal to zero.\r\n"
   ],
   "metadata": {}
  },
  {
   "cell_type": "code",
   "execution_count": 3,
   "source": [
    "C = Code(G,N)\r\n",
    "S = getVal(C,'S')\r\n",
    "report('CanonicalGenerators')\r\n",
    "report(XP2Str(S,N),\"\\n\")\r\n",
    "report('Checking CanonicalGenerators:',CanonicalGenerators(G,N,C=S),\"\\n\")\r\n",
    "report('Admissible',Admissible(S,N),\"\\n\")"
   ],
   "outputs": [
    {
     "output_type": "stream",
     "name": "stdout",
     "text": [
      "CanonicalGenerators\n",
      "XP_8(12|1111111|0712343)\n",
      "XP_8( 0|0000000|1322224) \n",
      "\n",
      "Checking CanonicalGenerators: True \n",
      "\n",
      "Admissible True \n",
      "\n"
     ]
    }
   ],
   "metadata": {}
  },
  {
   "cell_type": "markdown",
   "source": [
    "# Calculating Orbit Representatives $E_m$\r\n",
    "Orbit representatives are calculated from the diagonal canonical generators Sz. The steps are as follows:\r\n",
    "1. Let li be the list of leading indices of Sx (matrix formed from the X components of the non-diagional canonical generators)\r\n",
    "2. Form a matrix Szp from the Z components and phase components of the Sz. For there to be a valid solution, all phase components must be a multiple of 2. We divide the phase components by 2 to ensure they are modulo N (same as the Z component).\r\n",
    "3. Determine the kernel modulo N of Szp, K. Remove the last column of K and any zero rows.\r\n",
    "4. Use a graph search algorithm to find vectors a such that x = aK mod N is a binary vector. Ensure that entries x[i] = 0 for i in li. \r\n",
    "5. Let A be the matrix formed from the solutions a. Then Em = AK mod N. "
   ],
   "metadata": {}
  },
  {
   "cell_type": "code",
   "execution_count": 4,
   "source": [
    "\r\n",
    "Em = getVal(C,'Em')\r\n",
    "report('Em')\r\n",
    "report(ZmatPrint(Em,2),\"\\n\")"
   ],
   "outputs": [
    {
     "output_type": "stream",
     "name": "stdout",
     "text": [
      "li [0] \n",
      "\n",
      "Szp\n",
      "13222240 \n",
      "\n",
      "K\n",
      "1100001\n",
      "0200010\n",
      "0010011\n",
      "0001011\n",
      "0000111\n",
      "0000021\n",
      "0000002 \n",
      "\n",
      "A\n",
      "0400023\n",
      "0400123\n",
      "0401023\n",
      "0401113\n",
      "0410023\n",
      "0410113\n",
      "0411013\n",
      "0411112 \n",
      "\n",
      "Em\n",
      "0000000\n",
      "0000111\n",
      "0001011\n",
      "0001101\n",
      "0010011\n",
      "0010101\n",
      "0011001\n",
      "0011110 \n",
      "\n"
     ]
    }
   ],
   "metadata": {}
  },
  {
   "cell_type": "markdown",
   "source": [
    "# Calculating the Code Words\r\n",
    "The process for calculating the codewords is:\r\n",
    "1. Calculate the Em (see above)\r\n",
    "2. Calculate the orbit operator OSx\r\n",
    "3. The codeword |k_i> = OSx|m_i> for m_i in Em"
   ],
   "metadata": {}
  },
  {
   "cell_type": "code",
   "execution_count": 5,
   "source": [
    "CW = getVal(C,'Codewords')\r\n",
    "report('Codewords')\r\n",
    "for c in CW:\r\n",
    "    report(State2Str(c,N))\r\n",
    "report(\"\\n\")"
   ],
   "outputs": [
    {
     "output_type": "stream",
     "name": "stdout",
     "text": [
      "OSx\n",
      "XP_8( 0|0000000|0000000)\n",
      "XP_8(12|1111111|0712343) \n",
      "\n",
      "Codewords\n",
      "w0/16|0000000>+w12/16|1111111>\n",
      "w0/16|0000111>+w0/16|1111000>\n",
      "w0/16|0001011>+w14/16|1110100>\n",
      "w0/16|0001101>+w12/16|1110010>\n",
      "w0/16|0010011>+w12/16|1101100>\n",
      "w0/16|0010101>+w10/16|1101010>\n",
      "w0/16|0011001>+w8/16|1100110>\n",
      "w0/16|0011110>+w0/16|1100001>\n",
      "\n",
      "\n"
     ]
    }
   ],
   "metadata": {}
  },
  {
   "cell_type": "markdown",
   "source": [
    "# Calclating the Core Eq and Lx\r\n",
    "To calculate the core Eq, we find the coset decomposition of Em so that Em = Eq + < Lx>. T = < Lx> is the set of binary vectors x such that x + Em = Em:"
   ],
   "metadata": {}
  },
  {
   "cell_type": "code",
   "execution_count": 6,
   "source": [
    "Eq = getVal(C,'Eq')\r\n",
    "report('Eq')\r\n",
    "report(ZmatPrint(Eq,2),\"\\n\")\r\n"
   ],
   "outputs": [
    {
     "output_type": "stream",
     "name": "stdout",
     "text": [
      "T\n",
      "0011110 \n",
      "\n",
      "Lx is RREF(T)\n",
      "0011110 \n",
      "\n",
      "Eq\n",
      "0000000\n",
      "0000111\n",
      "0001011\n",
      "0001101 \n",
      "\n"
     ]
    }
   ],
   "metadata": {}
  }
 ],
 "metadata": {
  "orig_nbformat": 4,
  "language_info": {
   "name": "python",
   "version": "3.8.7",
   "mimetype": "text/x-python",
   "codemirror_mode": {
    "name": "ipython",
    "version": 3
   },
   "pygments_lexer": "ipython3",
   "nbconvert_exporter": "python",
   "file_extension": ".py"
  },
  "kernelspec": {
   "name": "python3",
   "display_name": "Python 3.8.7 64-bit"
  },
  "interpreter": {
   "hash": "93ecb60a143ed30565570a02d52015ed90447d3eff4b9455aa518b6d74e1c511"
  }
 },
 "nbformat": 4,
 "nbformat_minor": 2
}