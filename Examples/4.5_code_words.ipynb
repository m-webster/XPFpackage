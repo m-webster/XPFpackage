{
 "cells": [
  {
   "cell_type": "markdown",
   "metadata": {},
   "source": [
    "# Example 4.5: Calculating Code Words\n",
    "In this notebook, we illustrate the operation of the code words algorithm. \n",
    "\n",
    "We start with a set of XP operators $\\mathbf{G}$ which are the generators of the stabilizer code:\n",
    "\n",
    "This code is made available subject to [GPL licensing](https://www.gnu.org/licenses/gpl-3.0.en.html). Readers who wish to modify the code can either download the [Github repository](https://github.com/m-webster/XPFpackage) or use online services such as [Binder](https://mybinder.org/) or [Colab](https://colab.research.google.com/)."
   ]
  },
  {
   "cell_type": "code",
   "execution_count": 9,
   "metadata": {},
   "outputs": [
    {
     "name": "stdout",
     "output_type": "stream",
     "text": [
      "The code is precision N=8 on n=7 qubits.\n",
      "\n",
      "\n",
      "The Code Generators are G:\n",
      "XP_8( 8|0000000|6554444)\n",
      "XP_8( 7|1111111|1241234)\n",
      "XP_8( 1|1110000|3134444) \n",
      "\n"
     ]
    }
   ],
   "source": [
    "import add_parent_dir\n",
    "import numpy as np\n",
    "from common import *\n",
    "from NSpace import *\n",
    "from XPAlgebra import *\n",
    "from XPCodes import *\n",
    "\n",
    "## Code 1\n",
    "genstr = 'XP_8(8|0000000|6554444),XP_8(7|1111111|1241234),XP_8(1|1110000|3134444)'\n",
    "\n",
    "## Code 2\n",
    "# genstr = 'XP8(0|0000000|1322224),XP8(12|1111111|1234567)'\n",
    "\n",
    "## Code 3\n",
    "# genstr = 'XP_2(0|000|110)'\n",
    "\n",
    "## Code 4\n",
    "# genstr = 'XP_16(0|0000|8 12 14 7),XP_16(0|0000|8 4 10 13)'\n",
    "\n",
    "\n",
    "G, N = str2XP(genstr)\n",
    "G = ZMat2D(G)\n",
    "n = XPn(G)\n",
    "print(f'The code is precision N={N} on n={n} qubits.')\n",
    "print('\\n')\n",
    "print('The Code Generators are G:')\n",
    "print(XP2Str(G,N),\"\\n\")\n"
   ]
  },
  {
   "cell_type": "markdown",
   "metadata": {},
   "source": [
    "## Step 1: Canonical Generators\n",
    "The canonical generators $ \\mathbf{S}_X,\\mathbf{S}_Z $ for the code are:\n"
   ]
  },
  {
   "cell_type": "code",
   "execution_count": 10,
   "metadata": {},
   "outputs": [
    {
     "name": "stdout",
     "output_type": "stream",
     "text": [
      "SX:\n",
      "XP_8( 9|1110000|1240000)\n",
      "XP_8(14|0001111|0001234)\n",
      "SZ:\n",
      "XP_8( 8|0000000|2334444)\n",
      "XP_8( 0|0000000|0440000)\n"
     ]
    }
   ],
   "source": [
    "S = CanonicalGenerators(G,N)\n",
    "SX,SZ = splitDiag(S)\n",
    "print('SX:')\n",
    "print(XP2Str(SX,N))\n",
    "print('SZ:')\n",
    "print(XP2Str(SZ,N))"
   ]
  },
  {
   "cell_type": "markdown",
   "metadata": {},
   "source": [
    "## Step 2: Orbit Representatives\n",
    "We calculate $S_{Zp}$ by taking the phase and Z components each element $B$ of $\\mathbf{S}_Z$.\n",
    "\n",
    "If $B = XP_N(p|\\mathbf{x}|\\mathbf{z})$ then $S_{Zp}(B) = (\\mathbf{z}|p/2)$.\n",
    "\n",
    "The Simultaneous $+1$ eigenspace of $\\mathbf{S}_Z$ is given by the binary vectors $\\mathbf{e}$ such that:\n",
    "\n",
    "$$S_{Zp} (\\mathbf{e}|1)  \\mod N = \\mathbf{0}$$\n",
    "\n",
    "Solutions are of form $(\\mathbf{e}|1) = a K \\mod N$ where $K$ is a Howell basis of $\\ker(S_{Zp})$ and $\\mathbf{a}$ is a vector of length $|K|$ with entries in $\\mathbb{Z}_N$.\n",
    "\n",
    "The exhaustive algorithm adds all possible linear combinations of rows of $K$ and the solutions are those sums which result in a binary vector of form $(\\mathbf{e}|1) = \\mathbf{a}K \\mod N$ for some combination represented by the vector $\\mathbf{a}$. This is of exponential complexity.\n",
    "\n",
    "The optimised graph search algorithm reduces the size of the search space by setting $\\mathbf{e}[l] = 0$ whenever $l$ is a leading index of $S_X$, where $S_X$ is the matrix formed from the X components of the canonical generators.\n",
    "\n",
    "The graph search algorithm outputs a matrix $A$ such that each row $\\mathbf{a}$ of $A$ is a valid combination yielding a binary vector of the required form.\n",
    "\n",
    "The orbit representatives $E_m$ are the rows of $AK \\mod N$ but with the final column of all 1's dropped:"
   ]
  },
  {
   "cell_type": "code",
   "execution_count": 11,
   "metadata": {},
   "outputs": [
    {
     "name": "stdout",
     "output_type": "stream",
     "text": [
      "SZp: Z components and phase of diagonal canonical generators:\n",
      "23344444\n",
      "04400000\n",
      "\n",
      "\n",
      "K: Howell basis of Kernel of SZp:\n",
      "10200000\n",
      "01300001\n",
      "00400001\n",
      "00010001\n",
      "00001001\n",
      "00000101\n",
      "00000011\n",
      "00000002\n",
      "\n",
      "\n",
      "SXx: X components of non-diagonal canoncial generators SX:\n",
      "1110000\n",
      "0001111\n",
      "\n",
      "\n",
      "Li: The leading indices of SXx:\n",
      "[0, 3]\n",
      "\n",
      "\n",
      "Graph Search Algorithm yields the following solutions A:\n",
      "00000010\n",
      "00000100\n",
      "00001000\n",
      "00001113\n",
      "\n",
      "\n",
      "AK mod N:\n",
      "00000011\n",
      "00000101\n",
      "00001001\n",
      "00001111\n",
      "\n",
      "\n",
      "Em: drop the final column of all 1's from AK mod N:\n",
      "0000001\n",
      "0000010\n",
      "0000100\n",
      "0000111\n",
      "\n",
      "\n"
     ]
    }
   ],
   "source": [
    "SZp = XP2Zp(SZ,N,double=False)\n",
    "print('SZp: Z components and phase of diagonal canonical generators:')\n",
    "print(ZmatPrint(SZp,N))\n",
    "print('\\n')\n",
    "\n",
    "nsp = NSpace(SZp,N)\n",
    "nsp.simplifyKer()\n",
    "K = nsp.K\n",
    "\n",
    "print('K: Howell basis of Kernel of SZp:')\n",
    "print(ZmatPrint(K,N))\n",
    "print('\\n')\n",
    "\n",
    "SXx = XPx(SX)\n",
    "print('SXx: X components of non-diagonal canoncial generators SX:')\n",
    "print(ZmatPrint(SXx,2))\n",
    "print('\\n')\n",
    "\n",
    "print('Li: The leading indices of SXx:')\n",
    "li = leadingIndices(SXx)\n",
    "print(li)\n",
    "print('\\n')\n",
    "\n",
    "x = ZMat([2]*(n+1))\n",
    "x[li] = 0\n",
    "x[-1] = 1\n",
    "\n",
    "###### Calculate the solution graph D by calling espaceSolve\n",
    "# D is the graph\n",
    "# (n,b) is the starting node for the solution\n",
    "D,(n,b) = espaceSolve(K,N,b=None,x=x)\n",
    "\n",
    "###### convert graph D to a list L\n",
    "# L is a list of vectors c modulo N of length m\n",
    "# representing linear combinations of the rows of K\n",
    "A = graph2List(D,(n,b),rev=True)\n",
    "A = ZMat(A)\n",
    "\n",
    "print('Graph Search Algorithm yields the following solutions A:')\n",
    "print(ZmatPrint(A,N))\n",
    "print('\\n')\n",
    "Em = np.mod(A @ K,N)\n",
    "print('AK mod N:')\n",
    "print(ZmatPrint(Em,2))\n",
    "print('\\n')\n",
    "print('Em: drop the final column of all 1\\'s from AK mod N:')\n",
    "Em = Em[:,:-1]\n",
    "print(ZmatPrint(Em,2))\n",
    "print('\\n')"
   ]
  },
  {
   "cell_type": "markdown",
   "metadata": {},
   "source": [
    "## Step 3: Image of Orbit Representatives under Orbit Operator is a Basis of the Code Space\n",
    "\n",
    "We first calculate the orbit operator $O_{\\mathbf{S}_X}$, then apply $O_{\\mathbf{S}_X}$ to each element of $E_m$ to generate the codewords:"
   ]
  },
  {
   "cell_type": "code",
   "execution_count": 12,
   "metadata": {},
   "outputs": [
    {
     "name": "stdout",
     "output_type": "stream",
     "text": [
      "Orbit operator OSx is the sum of the following XP operators:\n",
      "XP_8( 0|0000000|0000000)\n",
      "XP_8( 9|1110000|1240000)\n",
      "XP_8(14|0001111|0001234)\n",
      "XP_8( 7|1111111|1241234)\n",
      "\n",
      "\n",
      "Applying OSx to each element of Em yields the code words:\n",
      "|k_0> = OSx|0000001> = |0000001>+w6/16|0001110>+w9/16|1110001>+w15/16|1111110>\n",
      "|k_1> = OSx|0000010> = |0000010>+w4/16|0001101>+w9/16|1110010>+w13/16|1111101>\n",
      "|k_2> = OSx|0000100> = |0000100>+w2/16|0001011>+w9/16|1110100>+w11/16|1111011>\n",
      "|k_3> = OSx|0000111> = |0000111>+|0001000>+w9/16|1110111>+w9/16|1111000>\n"
     ]
    }
   ],
   "source": [
    "OSx,LIx = OrbitOperator(SX,N)\n",
    "print('Orbit operator OSx is the sum of the following XP operators:')\n",
    "print(XP2Str(OSx,N))\n",
    "print('\\n')\n",
    "print('Applying OSx to each element of Em yields the code words:')\n",
    "EmState = makeXP(0,Em,0)\n",
    "EmStr = ZMat2str(Em,2)\n",
    "for i in range(len(Em)):\n",
    "    m = EmState[i]\n",
    "    k = XPMul(OSx,m,N)\n",
    "    print(f'|k_{i}> = OSx|{EmStr[i]}> = {State2Str(k,N)}')"
   ]
  }
 ],
 "metadata": {
  "interpreter": {
   "hash": "93ecb60a143ed30565570a02d52015ed90447d3eff4b9455aa518b6d74e1c511"
  },
  "kernelspec": {
   "display_name": "Python 3.8.7 64-bit",
   "name": "python3"
  },
  "language_info": {
   "codemirror_mode": {
    "name": "ipython",
    "version": 3
   },
   "file_extension": ".py",
   "mimetype": "text/x-python",
   "name": "python",
   "nbconvert_exporter": "python",
   "pygments_lexer": "ipython3",
   "version": "3.8.7"
  },
  "orig_nbformat": 4
 },
 "nbformat": 4,
 "nbformat_minor": 2
}
