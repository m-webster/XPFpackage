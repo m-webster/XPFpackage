{
 "cells": [
  {
   "cell_type": "markdown",
   "source": [
    "# Example 6.2.3 Logical Identity Group\r\n",
    "This notebook illustrates the operation of the Logical Identity algorithm.\r\n",
    "\r\n",
    "## Diagonal Logical Identity Generators $\\mathbf{M}_Z$\r\n",
    "\r\n",
    "The algorithm assumes we are given the Codewords as input. \r\n",
    "\r\n",
    "We form $E_M$ from the Z-support of the code words, $E$, and a column of all ones. \r\n",
    "\r\n",
    "We then calculate the Howell basis $K$ of the kernel of $E_M$.\r\n"
   ],
   "metadata": {}
  },
  {
   "cell_type": "code",
   "execution_count": 9,
   "source": [
    "import add_parent_dir\r\n",
    "import numpy as np\r\n",
    "from common import *\r\n",
    "from NSpace import *\r\n",
    "from XPAlgebra import *\r\n",
    "from XPCodes import *\r\n",
    "\r\n",
    "## Code 1\r\n",
    "genstr = 'XP_8(8|0000000|6554444),XP_8(7|1111111|1241234),XP_8(1|1110000|3134444)'\r\n",
    "\r\n",
    "## Code 2\r\n",
    "# genstr = 'XP8(0|0000000|1322224)\\nXP8(12|1111111|1234567)'\r\n",
    "\r\n",
    "\r\n",
    "G, N = str2XP(genstr)\r\n",
    "n = XPn(G)\r\n",
    "print('The Code Generators are G:')\r\n",
    "print(XP2Str(G,N),\"\\n\")\r\n",
    "C = Code(G,N)\r\n",
    "Codewords = getVal(C,'Codewords')\r\n",
    "print('The code words are:')\r\n",
    "for i in range(len(Codewords)):\r\n",
    "    print(f'|k_{i}> = {State2Str(Codewords[i],N)}')\r\n",
    "print('\\n')\r\n",
    "E = np.vstack([XPx(c) for c in Codewords])\r\n",
    "print('E_M is the ZSupport of the code words, E, plus a column of all ones:')\r\n",
    "EM = np.hstack([E,np.ones((len(E),1),dtype=int)])\r\n",
    "print(ZmatPrint(EM,2))\r\n",
    "print('\\n')\r\n",
    "nsp = NSpace(EM,N)\r\n",
    "nsp.simplifyKer()\r\n",
    "K = nsp.K\r\n",
    "print('K is the Howell basis of Ker(E_M):')\r\n",
    "print(ZmatPrint(K,N))\r\n",
    "print('\\n')\r\n",
    "print('The diagonal logical identity generators M_Z are then:')\r\n",
    "MZ = Zp2XP(K,N,double=False)\r\n",
    "print(XP2Str(MZ,N))"
   ],
   "outputs": [
    {
     "output_type": "stream",
     "name": "stdout",
     "text": [
      "The Code Generators are G:\n",
      "XP_8( 8|0000000|6554444)\n",
      "XP_8( 7|1111111|1241234)\n",
      "XP_8( 1|1110000|3134444) \n",
      "\n",
      "The code words are:\n",
      "|k_0> = |0000001>+w6/16|0001110>+w9/16|1110001>+w15/16|1111110>\n",
      "|k_1> = |0000010>+w4/16|0001101>+w9/16|1110010>+w13/16|1111101>\n",
      "|k_2> = |0000100>+w2/16|0001011>+w9/16|1110100>+w11/16|1111011>\n",
      "|k_3> = |0000111>+|0001000>+w9/16|1110111>+w9/16|1111000>\n",
      "\n",
      "\n",
      "E_M is the ZSupport of the code words, E, plus a column of all ones:\n",
      "00000011\n",
      "11100011\n",
      "00011101\n",
      "11111101\n",
      "00000101\n",
      "11100101\n",
      "00011011\n",
      "11111011\n",
      "00001001\n",
      "11101001\n",
      "00010111\n",
      "11110111\n",
      "00001111\n",
      "11101111\n",
      "00010001\n",
      "11110001\n",
      "\n",
      "\n",
      "K is the Howell basis of Ker(E_M):\n",
      "10700000\n",
      "01700000\n",
      "00044444\n",
      "\n",
      "\n",
      "The diagonal logical identity generators M_Z are then:\n",
      "XP_8( 0|0000000|1070000)\n",
      "XP_8( 0|0000000|0170000)\n",
      "XP_8( 8|0000000|0004444)\n"
     ]
    }
   ],
   "metadata": {}
  },
  {
   "cell_type": "markdown",
   "source": [
    "## Non-Diagonal Logical Identity Generators $\\mathbf{M}_X$\r\n",
    "The process to find the non-diagonal generators is as follows:\r\n",
    "1. Find the X components of the generators\r\n",
    "2. Find the phase and Z components which are consistent with the relative phases between computational basis elements in code words\r\n",
    "\r\n",
    "\r\n",
    "### Step 1: X-Components: \r\n",
    "Firstly, we find the X-components of the generators.  Let $E_i$ be the Z-support of the code word $|\\kappa_i\\rangle$. Take any element $\\mathbf{e}_i \\in E_i$ and let $T$ be the binary matrix with rows formed from  $\\{ \\mathbf{e}_i \\oplus \\mathbf{e}: \\mathbf{e} \\in E_i\\}$. Let $S_X = \\text{RREF}_{\\mathbb{Z}_2}(T)$ and let $\\mathbf{m}_i = \\text{res}_{\\mathbb{Z}_2}(T,\\mathbf{e}_i)$. Verify that $E_i = \\mathbf{m}_i + \\langle S_X \\rangle$ for each code word. If not, return FALSE."
   ],
   "metadata": {}
  },
  {
   "cell_type": "code",
   "execution_count": 10,
   "source": [
    "i = 0\r\n",
    "k_i = Codewords[i]\r\n",
    "E_i = XPx(k_i)\r\n",
    "e_i = E_i[0]\r\n",
    "T = getT(E_i)\r\n",
    "nspSX = NSpace(T,2)\r\n",
    "nspSX.simplifyH()\r\n",
    "SXx = nspSX.H\r\n",
    "E_i_str = ZMat2str(E_i,2)\r\n",
    "print(f'i={i}')\r\n",
    "print(f'E_i is the Z-Support of codeword |k_{i}>:')\r\n",
    "print(\"\\n\".join(E_i_str))\r\n",
    "print('\\n')\r\n",
    "print('e_i = E_i[0] is the first element of E_i:')\r\n",
    "print(E_i_str[0])\r\n",
    "print('\\n')\r\n",
    "print('We add e_i to E_i to form E_i\\' = (E_i + e_i) mod 2:')\r\n",
    "E_i_prime = np.mod(E_i + e_i,2)\r\n",
    "print(ZmatPrint(E_i_prime,2))\r\n",
    "print('\\n')\r\n",
    "print('T is the set of all x in E_i\\' such that e + x mod 2 in E_i for all e in E_i:')\r\n",
    "print(ZmatPrint(T,2))\r\n",
    "print('\\n')\r\n",
    "print('The X-components of the non-diagonal logical I generators are given by SXx = RREF(T):')\r\n",
    "print(ZmatPrint(SXx,2))"
   ],
   "outputs": [
    {
     "output_type": "stream",
     "name": "stdout",
     "text": [
      "i=0\n",
      "E_i is the Z-Support of codeword |k_0>:\n",
      "0000001\n",
      "1110001\n",
      "0001110\n",
      "1111110\n",
      "\n",
      "\n",
      "e_i = E_i[0] is the first element of E_i:\n",
      "0000001\n",
      "\n",
      "\n",
      "We add e_i to E_i to form E_i' = (E_i + e_i) mod 2:\n",
      "0000000\n",
      "1110000\n",
      "0001111\n",
      "1111111\n",
      "\n",
      "\n",
      "T is the set of all x in E_i' such that e + x mod 2 in E_i for all e in E_i:\n",
      "0000000\n",
      "1110000\n",
      "0001111\n",
      "1111111\n",
      "\n",
      "\n",
      "The X-components of the non-diagonal logical I generators are given by SXx = RREF(T):\n",
      "1110000\n",
      "0001111\n"
     ]
    }
   ],
   "metadata": {}
  },
  {
   "cell_type": "markdown",
   "source": [
    "\r\n",
    "\r\n",
    "### Step 2: Phase and Z-Components: \r\n",
    "Secondly, we use linear algebra modulo $N$ to find valid phase and Z-components for the generators. Assume that the codewords $|\\kappa_i\\rangle$ are written in orbit form as in Equation \\ref{eq:orbitform}. For each $\\mathbf{x}$ in $S_X$ we complete the following steps:\r\n",
    "1. Let $\\mathbf{e}'_{ij} = \\mathbf{e}_{ij} \\oplus \\mathbf{x}$, and let $p'_{ij}$ be the phase of $\\mathbf{e}'_{ij}$ in the code words\r\n",
    "2. Let $p''_{ij} = (p'_{ij} - p_{ij}) \\mod 2N$ - this is the change in phase when applying the operator $XP_N(0|\\mathbf{x}|\\mathbf{0})$\r\n",
    "3. For there to be a valid solution, the $p''_{ij}$ are all either even or odd. Let $a = p_{00}'' \\mod 2$ be an adjustment factor. Let $p'''_{ij} = (p''_{ij} - a)/2$ so that $p'''_{ij} \\in \\mathbb{Z}_N$. Let $\\mathbf{p}'''$ be the vector formed from the $p'''_{ij}$\r\n",
    "3. Find a solution $\\mathbf{b} = (\\mathbf{z}|q) \\in \\mathbb{Z}_N^{n}\\times \\mathbb{Z}_N$ such that $E_M \\mathbf{b} = \\mathbf{p}'''$ using linear algebra modulo $N$. \r\n",
    "4. If there is no such solution $\\mathbf{b}$, return FALSE\r\n",
    "5. Otherwise, let $M_Z = \\{(\\mathbf{z}_j|p_j)\\}$ be the matrix formed from the Z and phase components of the operators in $\\mathbf{M}_Z = \\{XP_N(p_j|\\mathbf{0}|\\mathbf{z}_j)\\}$. Let $(\\mathbf{z}'|p') = \\text{res}_{\\mathbb{Z}_N}(M_Z,(\\mathbf{z}|q))$ and add the operator $XP_N(a+2p'|\\mathbf{x}|\\mathbf{z}')$ to $\\mathbf{M}_X$."
   ],
   "metadata": {}
  },
  {
   "cell_type": "code",
   "execution_count": 11,
   "source": [
    "## Make a single codeword\r\n",
    "CW = ZMat([np.vstack(Codewords)])\r\n",
    "\r\n",
    "MX = []\r\n",
    "CWphases = CW2Dict(CW)\r\n",
    "setVerbose(True)\r\n",
    "K2 = 2*K\r\n",
    "for x in SXx:\r\n",
    "    print('Finding a non-diagonal generator with X-component:',x)\r\n",
    "    A = getLX(x,CW,CWphases,nsp,N)\r\n",
    "    if A is not False:\r\n",
    "        print('The resulting non-diagonal generator is:',XP2Str(A,N))\r\n",
    "        Zp = XP2Zp(A,N)\r\n",
    "        Zp,u = matResidual(K2,Zp,2*N)\r\n",
    "        p,x0,z = XPcomponents(Zp2XP(Zp,N))\r\n",
    "        A = makeXP(p,x,z)\r\n",
    "        print('We update the phase and Z component by taking the residue with respect to K:',XP2Str(A,N))\r\n",
    "        MX.append(A)\r\n",
    "    print(\"\\n\")\r\n",
    "setVerbose(False)        \r\n",
    "\r\n"
   ],
   "outputs": [
    {
     "output_type": "stream",
     "name": "stdout",
     "text": [
      "Finding a non-diagonal generator with X-component: [1 1 1 0 0 0 0]\n",
      "p''' represents the change in phase to each basis element in the codewords when applying the operator  XP_8( 0|1110000|0000000)\n",
      "[4 3 4 3 4 3 4 3 4 3 4 3 4 3 4 3]\n",
      "b = (z|q) represents the Z component and phase vector of an operator which applies the change in phase p''':\n",
      "[0 0 7 4 4 4 4 0]\n",
      "The resulting non-diagonal generator is: XP_8( 1|1110000|0074444)\n",
      "We update the phase and Z component by taking the residue with respect to K: XP_8( 9|1110000|0070000)\n",
      "\n",
      "\n",
      "Finding a non-diagonal generator with X-component: [0 0 0 1 1 1 1]\n",
      "p''' represents the change in phase to each basis element in the codewords when applying the operator  XP_8( 0|0001111|0000000)\n",
      "[3 3 5 5 2 2 6 6 1 1 7 7 0 0 0 0]\n",
      "b = (z|q) represents the Z component and phase vector of an operator which applies the change in phase p''':\n",
      "[0 0 0 5 6 7 0 3]\n",
      "The resulting non-diagonal generator is: XP_8( 6|0001111|0005670)\n",
      "We update the phase and Z component by taking the residue with respect to K: XP_8(14|0001111|0001234)\n",
      "\n",
      "\n"
     ]
    }
   ],
   "metadata": {}
  },
  {
   "cell_type": "markdown",
   "source": [
    "## Summary\r\n",
    "When comparing the logical identity generators with the canonical generators, it is often the case that the group $\\mathbf{I} = \\langle \\mathbf{M}_X, \\mathbf{M}_Z\\rangle \\ne \\mathbf{G} = \\langle \\mathbf{S}_X, \\mathbf{S}_Z\\rangle$. In general:\r\n",
    "- The number of non-diagonal generators is always the same, with the same X-components but with some simplification to the phase and Z components. \r\n",
    "- There may be more diagonal generators  in $\\mathbf{M}_Z$ compared to $\\mathbf{S}_Z$ but $\\mathbf{S}_Z \\subset \\langle \\mathbf{M}_Z\\rangle$."
   ],
   "metadata": {}
  },
  {
   "cell_type": "code",
   "execution_count": 12,
   "source": [
    "S = getVal(C,'S')\r\n",
    "SX,SZ = splitDiag(S)\r\n",
    "print(\"SX\")\r\n",
    "print(XP2Str(SX,N))\r\n",
    "print(\"SZ\")\r\n",
    "print(XP2Str(SZ,N))\r\n",
    "\r\n",
    "print(\"\\n\")\r\n",
    "\r\n",
    "print(\"MX\")\r\n",
    "print(XP2Str(MX,N))\r\n",
    "print(\"MZ\")\r\n",
    "print(XP2Str(MZ,N))"
   ],
   "outputs": [
    {
     "output_type": "stream",
     "name": "stdout",
     "text": [
      "SX\n",
      "XP_8( 9|1110000|1240000)\n",
      "XP_8(14|0001111|0001234)\n",
      "SZ\n",
      "XP_8( 8|0000000|2334444)\n",
      "XP_8( 0|0000000|0440000)\n",
      "\n",
      "\n",
      "MX\n",
      "XP_8( 9|1110000|0070000)\n",
      "XP_8(14|0001111|0001234)\n",
      "MZ\n",
      "XP_8( 0|0000000|1070000)\n",
      "XP_8( 0|0000000|0170000)\n",
      "XP_8( 8|0000000|0004444)\n"
     ]
    }
   ],
   "metadata": {}
  }
 ],
 "metadata": {
  "orig_nbformat": 4,
  "language_info": {
   "name": "python",
   "version": "3.8.7",
   "mimetype": "text/x-python",
   "codemirror_mode": {
    "name": "ipython",
    "version": 3
   },
   "pygments_lexer": "ipython3",
   "nbconvert_exporter": "python",
   "file_extension": ".py"
  },
  "kernelspec": {
   "name": "python3",
   "display_name": "Python 3.8.7 64-bit"
  },
  "interpreter": {
   "hash": "93ecb60a143ed30565570a02d52015ed90447d3eff4b9455aa518b6d74e1c511"
  }
 },
 "nbformat": 4,
 "nbformat_minor": 2
}