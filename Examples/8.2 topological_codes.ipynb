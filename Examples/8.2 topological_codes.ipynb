{
 "cells": [
  {
   "cell_type": "markdown",
   "metadata": {},
   "source": [
    "# Example 8.2 Topological Codes in 2D\n",
    "Using this notebook, you can explore various topological codes using the XPF package. All codes are embedded onto 2D manifolds. Examples include:\n",
    "- Twisted Quantum Doubles\n",
    "- Hypergraph and Weighted Graph Codes - including the Union Jack state, 2D Cluster state\n",
    "- Surface codes\n",
    "- Semion Codes\n",
    "- XZZX codes\n",
    "\n",
    "To change the code type, uncomment the section for the relevant code.\n",
    "\n",
    "You can modify the size of the manifold and can choose either a plane geometry with open boundaries or a torus geometry with closed boundaries.\n",
    "\n",
    "This code is Copyright 2021 Mark Webster, and is made available subject to [GPL licensing](https://www.gnu.org/licenses/gpl-3.0.en.html). Readers who wish to modify the code can either download the [Github repository](https://github.com/m-webster/XPFpackage) or use online services such as [Binder](https://mybinder.org/) or [Colab](https://colab.research.google.com/)."
   ]
  },
  {
   "cell_type": "code",
   "execution_count": 1,
   "metadata": {},
   "outputs": [
    {
     "name": "stdout",
     "output_type": "stream",
     "text": [
      "F = 32, E= 56,V = 25,F - E + V = 1\n",
      "F = 32, E= 48,V = 16,F - E + V = 0\n",
      "Codespace Dimension: 16\n",
      "Logical Operators: 9\n",
      "XP_4(0|00010000010000010000010000010000000100000001000100000000000000000000000000000000000000000000000000000100000001000000000100001000|00000000000000000000000000000000000000000000000000000001000000000001000000000000110000000000000000000000000000000000000000000000) isLO True f-vector [0 0 0 0 0 0 0 0 0 4 0 4 0 4 0 4] weight 16\n"
     ]
    },
    {
     "data": {
      "text/plain": [
       "<Figure size 640x480 with 1 Axes>"
      ]
     },
     "metadata": {},
     "output_type": "display_data"
    },
    {
     "name": "stdout",
     "output_type": "stream",
     "text": [
      "XP_4(0|00000000000000000000000000000111011100010000010000000000000000000000000000000000000000000000000000000000000000000001101100100010|00000000000000000000000000000000000000000000000000000000000000000000000010100110010100000000000000000000000000000000000000000000) isLO True f-vector [0 0 0 0 0 0 4 4 0 0 0 0 0 0 4 4] weight 20\n"
     ]
    },
    {
     "data": {
      "text/plain": [
       "<Figure size 640x480 with 1 Axes>"
      ]
     },
     "metadata": {},
     "output_type": "display_data"
    },
    {
     "name": "stdout",
     "output_type": "stream",
     "text": [
      "XP_4(0|00000000000000000000000000000000000000000000000000010000010000010000010000010000000100000001000100000000100000001000000000000110|00000000000001000000000001000000000000000000110000000000010000000000010000000000000100000001000000000000300000003000000000000330) isLO True f-vector [0 0 6 6 0 0 6 6 0 0 6 6 0 0 6 6] weight 16\n"
     ]
    },
    {
     "data": {
      "text/plain": [
       "<Figure size 640x480 with 1 Axes>"
      ]
     },
     "metadata": {},
     "output_type": "display_data"
    },
    {
     "name": "stdout",
     "output_type": "stream",
     "text": [
      "XP_4(0|00000000000000000000000000000000000000000000000000000000000000000000000000000111011100010000010000000000000000000000100100110011|00000000000000000000000000000030000300030300033000000000000000000000000000000330030300030000012200000000222202222202320100132231) isLO True f-vector [0 6 4 2 4 2 0 6 0 6 4 2 4 2 0 6] weight 35\n"
     ]
    },
    {
     "data": {
      "text/plain": [
       "<Figure size 640x480 with 1 Axes>"
      ]
     },
     "metadata": {},
     "output_type": "display_data"
    },
    {
     "name": "stdout",
     "output_type": "stream",
     "text": [
      "XP_4(0|00000000000000000000000000000000000000000000000000000000000000000000000000000000000000000000000000000000000000000000000000000000|01101101011011101101011011101110110110110101111001101101011011101101011011101110110110110101111011111111111111111111111111111111) isLO True f-vector [0 0 0 0 0 0 4 4 0 4 0 4 0 4 4 0] weight 96\n"
     ]
    },
    {
     "data": {
      "text/plain": [
       "<Figure size 640x480 with 1 Axes>"
      ]
     },
     "metadata": {},
     "output_type": "display_data"
    },
    {
     "name": "stdout",
     "output_type": "stream",
     "text": [
      "XP_4(0|00000000000000000000000000000000000000000000000000000000000000000000000000000000000000000000000000000000000000000000000000000000|00000000000000000000000000000000000000000000000000000000000000000000000000000000000000000000202200002020022022200022000222222020) isLO True f-vector [0 4 0 4 0 4 0 4 0 4 0 4 0 4 0 4] weight 19\n"
     ]
    },
    {
     "data": {
      "text/plain": [
       "<Figure size 640x480 with 1 Axes>"
      ]
     },
     "metadata": {},
     "output_type": "display_data"
    },
    {
     "name": "stdout",
     "output_type": "stream",
     "text": [
      "XP_4(0|00000000000000000000000000000000000000000000000000000000000000000000000000000000000000000000000000000000000000000000000000000000|00000000000000000000000000000000000000000000000000000000000000000000000000000000000000000000022200002002000000200000200000002002) isLO True f-vector [0 4 4 0 4 0 0 4 4 0 0 4 0 4 4 0] weight 9\n"
     ]
    },
    {
     "data": {
      "text/plain": [
       "<Figure size 640x480 with 1 Axes>"
      ]
     },
     "metadata": {},
     "output_type": "display_data"
    },
    {
     "name": "stdout",
     "output_type": "stream",
     "text": [
      "XP_4(0|00000000000000000000000000000000000000000000000000000000000000000000000000000000000000000000000000000000000000000000000000000000|00000000000000000000000000000000000000000000000000000000000000000000000000000000000000000000000002000222200200202200000222220220) isLO True f-vector [0 0 4 4 0 0 4 4 0 0 4 4 0 0 4 4] weight 16\n"
     ]
    },
    {
     "data": {
      "text/plain": [
       "<Figure size 640x480 with 1 Axes>"
      ]
     },
     "metadata": {},
     "output_type": "display_data"
    },
    {
     "name": "stdout",
     "output_type": "stream",
     "text": [
      "XP_4(0|00000000000000000000000000000000000000000000000000000000000000000000000000000000000000000000000000000000000000000000000000000000|00000000000000000000000000000000000000000000000000000000000000000000000000000000000000000000000000022220002202002020202220202200) isLO True f-vector [0 0 0 0 0 0 0 0 4 4 4 4 4 4 4 4] weight 16\n"
     ]
    },
    {
     "data": {
      "text/plain": [
       "<Figure size 640x480 with 1 Axes>"
      ]
     },
     "metadata": {},
     "output_type": "display_data"
    },
    {
     "name": "stdout",
     "output_type": "stream",
     "text": [
      "Generators of Diagonal Logical Actions: FD =\n",
      "1111111111111111\n",
      "0404040404040404\n",
      "0044000004400404\n",
      "0000440004044004\n",
      "0000004404040440\n",
      "0000000044444444\n"
     ]
    }
   ],
   "source": [
    "import add_parent_dir\n",
    "from common import *\n",
    "from XPAlgebra import *\n",
    "from XPCodes import *\n",
    "from cellulation import *\n",
    "\n",
    "## parameters for generating code\n",
    "params = dict()\n",
    "\n",
    "#################################\n",
    "#### OPTIONS FOR CELLULATION ####\n",
    "#################################\n",
    "\n",
    "## origin for cellulation\n",
    "params['o'] = (1,1)\n",
    "## rows and columns in cellulation\n",
    "params['r'] = 4\n",
    "params['c'] = params['r']\n",
    "\n",
    "## geometry of manifold\n",
    "params['geometry'] = 'plane'\n",
    "params['geometry'] = 'torus'\n",
    "\n",
    "#################################\n",
    "####       CODE TYPES        ####\n",
    "#################################\n",
    "\n",
    "#### TWISTED QUANTUM DOUBLE ####\n",
    "params['code_type'] = 'TQD' \n",
    "params['cell_type'] = 'tri' \n",
    "params['geometry'] = 'torus'\n",
    "params['N'] = 4\n",
    "\n",
    "## Different Twist Types\n",
    "# params['w'] = (0,1,2)\n",
    "params['w'] = (0,1,1)\n",
    "# params['w'] = (0,0,0)\n",
    "\n",
    "#### HYPERGRAPH/WEIGHTED GRAPH STATES ####\n",
    "\n",
    "## Union Jack State\n",
    "# params['code_type'] = 'graph'\n",
    "# params['cell_type'] = 'tri_square'\n",
    "# params['edges'] = [(0,1,2)]\n",
    "# params['weights'] = None\n",
    "\n",
    "## Weighed Graph - Universal MBQC\n",
    "# params['code_type'] = 'graph'\n",
    "# params['cell_type'] = 'square'\n",
    "# params['edges'] = [(0,1),(2,3),(0,2),(1,3)] \n",
    "# params['weights'] = [2,2,1,1]\n",
    "# params['N'] = 4\n",
    "\n",
    "## 2D Cluster State\n",
    "# params['code_type'] = 'graph'\n",
    "# params['cell_type'] = 'square'\n",
    "# params['edges'] = [(0,1),(1,2),(2,3),(3,0)] \n",
    "# params['weights'] = None\n",
    "\n",
    "#### OTHER MISCELLANEOUS CODES ####\n",
    "\n",
    "#### SEMION CODE ####\n",
    "# params['code_type'] = 'semion'\n",
    "# params['cell_type'] = 'hex' \n",
    "\n",
    "#### XZZX CODE ####\n",
    "# params['code_type'] = 'XZZX'\n",
    "# params['cell_type'] = 'hex' \n",
    "# params['cell_type'] = 'square' \n",
    "\n",
    "#### SURFACE CODE ####\n",
    "# params['code_type'] = 'surface'\n",
    "# params['cell_type'] = 'hex' \n",
    "# params['cell_type'] = 'square' \n",
    "\n",
    "#### UNION JACK STATE - MODIFIED GENERATORS ####\n",
    "# params['code_type'] = 'union_jack'\n",
    "# params['cell_type'] = 'tri_square'\n",
    "\n",
    "def apply_code(params):\n",
    "    fName = params['cell_type'] + \"_plane\"\n",
    "    if fName not in globals():\n",
    "        return False\n",
    "    o,r,c = params['o'],params['r'],params['c']\n",
    "    faces = globals()[fName](o,r,c)\n",
    "    g = Cellulation(faces)\n",
    "    ## apply geometry to cellulation\n",
    "    if 'geometry' in params and params['geometry'] == 'torus':\n",
    "        g = Torus(g)\n",
    "    if params['code_type'] == 'TQD':\n",
    "        ## twisted quantum double\n",
    "        G,N = applyQTD(g,params['w'])\n",
    "    elif params['code_type'] == 'graph':\n",
    "        ## Apply weighted graph to g\n",
    "        print('graph')\n",
    "        E,W = applyWeightedGraph(g,params['edges'],params['weights'])\n",
    "        P = params['N'] if 'N' in params else None\n",
    "        \n",
    "        GState = graphState(E,W,P=P)\n",
    "        G,N = GState.XPCode(),GState.N\n",
    "        g.SX2cell(GState.SXx)\n",
    "    else:\n",
    "        ## apply the function identified by code_type\n",
    "        fName = params['code_type'] + \"_code\"\n",
    "        if fName not in globals():\n",
    "                return False\n",
    "        G,N = globals()[fName](g)    \n",
    "\n",
    "    ## Uncomment to save images of the code generators\n",
    "    # for A in G:\n",
    "        # print(XP2Str(A,N),isLO(A,LI,N),C.Fvector(A))\n",
    "        # g.display(show_operator=A,save=True)\n",
    "\n",
    "    ## Make an XP code object\n",
    "    C = Code(G,N)\n",
    "    ## Orbit representatives give codespace dimension\n",
    "    Em = getVal(C,'Em')\n",
    "    print('Codespace Dimension:',len(Em))\n",
    "    ## Generators for logical identity and logical operator groups\n",
    "    LI,LX,LO = getVals(C,['LI','LogicalX','LO'])\n",
    "    ## display the logical operator generators of the code\n",
    "    print('Logical Operators:',len(LO))\n",
    "    for A in LO:\n",
    "        print(XP2Str(A,N),'isLO',isLO(A,LI,N),'f-vector',C.Fvector(A),'weight',XPdistance(A))\n",
    "        g.display(show_operator=A)\n",
    "    ## now display generators for the diagonal actions\n",
    "    LD,FD = getVals(C,['LD','FD'])\n",
    "    print('Generators of Diagonal Logical Actions: FD =')\n",
    "    print(ZmatPrint(FD))\n",
    "\n",
    "apply_code(params)"
   ]
  }
 ],
 "metadata": {
  "interpreter": {
   "hash": "830c2b3f5922654a9696abd4fb624ebf249dfb9f715931b67f1c2f8f82efaf77"
  },
  "kernelspec": {
   "display_name": "Python 3.7.1 32-bit ('python-workshop-VEy7DXfK': pipenv)",
   "language": "python",
   "name": "python3"
  },
  "language_info": {
   "codemirror_mode": {
    "name": "ipython",
    "version": 3
   },
   "file_extension": ".py",
   "mimetype": "text/x-python",
   "name": "python",
   "nbconvert_exporter": "python",
   "pygments_lexer": "ipython3",
   "version": "3.7.1"
  },
  "orig_nbformat": 4
 },
 "nbformat": 4,
 "nbformat_minor": 2
}
