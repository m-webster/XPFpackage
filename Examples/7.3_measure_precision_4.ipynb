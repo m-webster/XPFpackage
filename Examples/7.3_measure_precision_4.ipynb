{
 "cells": [
  {
   "cell_type": "markdown",
   "metadata": {},
   "source": [
    "# Examples 7.3 Measurement of Precision 4 Operators\n",
    "\n",
    "This notebook illustrates measurement of arbitrary XP operators of precision 4 on the state $|+\\rangle^{\\otimes 3}$. The examples show that the XP formalism is not closed under measurements of XP operators - that is for some operators, measurement results in a state which cannot be represented as an XP stabilizer state.\n",
    "\n",
    "This code is made available subject to [GPL licensing](https://www.gnu.org/licenses/gpl-3.0.en.html). Readers who wish to modify the code can either download the [Github repository](https://github.com/m-webster/XPFpackage) or use online services such as [Binder](https://mybinder.org/) or [Colab](https://colab.research.google.com/)."
   ]
  },
  {
   "cell_type": "code",
   "execution_count": 4,
   "metadata": {},
   "outputs": [
    {
     "name": "stdout",
     "output_type": "stream",
     "text": [
      "The Code Generators are: G =\n",
      "XP_4(0|100|000)\n",
      "XP_4(0|010|000)\n",
      "XP_4(0|001|000) \n",
      "\n",
      "Codewords:\n",
      "|000>+|001>+|010>+|011>+|100>+|101>+|110>+|111>\n",
      "\n",
      "\n",
      "#### Measuring  XP_4(0|000|113) ####\n",
      "Measurement Outcome: w^0/4\n",
      "Probability: 0.375\n",
      "Projected Codewords:\n",
      "|000>+|011>+|101>\n",
      "\n",
      "\n",
      "Measurement Outcome: w^2/4\n",
      "Probability: 0.375\n",
      "Projected Codewords:\n",
      "|010>+|100>+|111>\n",
      "\n",
      "\n",
      "Measurement Outcome: w^4/4\n",
      "Probability: 0.125\n",
      "Projected Codewords:\n",
      "|110>\n",
      "\n",
      "\n",
      "Measurement Outcome: w^6/4\n",
      "Probability: 0.125\n",
      "Projected Codewords:\n",
      "|001>\n",
      "\n",
      "\n",
      "#### Measuring  XP_4(2|111|123) ####\n",
      "Measurement Outcome: w^0/4\n",
      "Probability: 0.5\n",
      "Projected Codewords:\n",
      "0.707w14/16|000>+|001>+0.707w2/16|010>+0.707w14/16|101>+|110>+0.707w2/16|111>\n",
      "\n",
      "\n",
      "Measurement Outcome: w^4/4\n",
      "Probability: 0.5\n",
      "Projected Codewords:\n",
      "0.707w2/16|000>+0.707w14/16|010>+|011>+|100>+0.707w2/16|101>+0.707w14/16|111>\n",
      "\n",
      "\n"
     ]
    }
   ],
   "source": [
    "import add_parent_dir\n",
    "import numpy as np\n",
    "from common import *\n",
    "from NSpace import *\n",
    "from XPAlgebra import *\n",
    "from XPCodes import *\n",
    "\n",
    "## Code 3\n",
    "n = 3\n",
    "N = 4\n",
    "x = np.eye(n,dtype=int)\n",
    "G = makeXP(0,x,0)\n",
    "\n",
    "opstr = 'XP_4(0|000|113),XP_4(2|111|123)'\n",
    "L, P = str2XP(opstr)\n",
    "setVerbose(False)\n",
    "print('The Code Generators are: G =')\n",
    "print(XP2Str(G,N),\"\\n\")\n",
    "C = Code(G,N)\n",
    "CW = getVal(C,'Codewords')\n",
    "print('Codewords:')\n",
    "# print(CW)\n",
    "for c in CW:\n",
    "    print(State2Str(c,N))\n",
    "print(\"\\n\")\n",
    "\n",
    "P = 2*N\n",
    "for A in L:\n",
    "    print('#### Measuring ',XP2Str(A,N),\"####\")\n",
    "    L, p1, CW1 = MeasureCodewords(CW,A,N)\n",
    "    for i in range(len(L)):\n",
    "        if p1[i] > 0:\n",
    "            print(f'Measurement Outcome: w^{L[i]}/{N}')\n",
    "            print(f'Probability: {p1[i]}')\n",
    "            print('Projected Codewords:')\n",
    "            # print('CW1',CW1[i])\n",
    "            for S,c in CW1[i]:\n",
    "                print(State2Str(S,P,c))\n",
    "            print(\"\\n\")\n"
   ]
  }
 ],
 "metadata": {
  "interpreter": {
   "hash": "93ecb60a143ed30565570a02d52015ed90447d3eff4b9455aa518b6d74e1c511"
  },
  "kernelspec": {
   "display_name": "Python 3.8.7 64-bit",
   "name": "python3"
  },
  "language_info": {
   "codemirror_mode": {
    "name": "ipython",
    "version": 3
   },
   "file_extension": ".py",
   "mimetype": "text/x-python",
   "name": "python",
   "nbconvert_exporter": "python",
   "pygments_lexer": "ipython3",
   "version": "3.8.7"
  },
  "orig_nbformat": 4
 },
 "nbformat": 4,
 "nbformat_minor": 2
}
