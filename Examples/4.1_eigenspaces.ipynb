{
 "cells": [
  {
   "cell_type": "markdown",
   "metadata": {},
   "source": [
    "# Example 4.1: Eigenspaces of Diagonal XP Operators\n",
    "In this notebook, we examine the structure of the eigenspaces of diagonal XP operators. In contrast to the XPF, we show that a wide range of different eigenspace dimensions can arise for XP operators, and that the dimension need not be a power of 2.\n",
    "\n",
    "By default, the code below recreates Table 2 - the distinct eigenspace dimensions which arise for XP operators on n=7 qubits of precision N=8. You can change the values of n and N to explore different sets of operators.\n",
    "\n",
    "You can also get more detailed information on the coset decomposition of each diagonal XP operator. This is useful when designing XP codes.\n",
    "\n",
    "To run different scenarios click here: [![Binder](https://mybinder.org/badge_logo.svg)](https://mybinder.org/v2/gh/m-webster/XPFpackage/HEAD?urlpath=tree/Examples)\n",
    "\n",
    "This code is Copyright 2021-22 Mark Webster, and is made available subject to [GPL licensing](https://www.gnu.org/licenses/gpl-3.0.en.html)."
   ]
  },
  {
   "cell_type": "code",
   "execution_count": 1,
   "metadata": {},
   "outputs": [
    {
     "name": "stdout",
     "output_type": "stream",
     "text": [
      "                Operator | |Em|\n",
      "-------------------------------\n",
      "XP_8( 0|0000000|3333333) |    1\n",
      "XP_8( 0|0000000|2555555) |    2\n",
      "XP_8( 0|0000000|0133333) |    4\n",
      "XP_8( 0|0000000|2355555) |    6\n",
      "XP_8( 0|0000000|3333335) |    7\n",
      "XP_8( 0|0000000|2223555) |    8\n",
      "XP_8( 0|0000000|6133335) |   10\n",
      "XP_8( 0|0000000|6133355) |   12\n",
      "XP_8( 0|0000000|1733333) |   13\n",
      "XP_8( 0|0000000|6113555) |   14\n",
      "XP_8( 0|0000000|1333355) |   15\n",
      "XP_8( 0|0000000|6133555) |   16\n",
      "XP_8( 0|0000000|1173335) |   17\n",
      "XP_8( 0|0000000|6111735) |   18\n",
      "XP_8( 0|0000000|1173355) |   19\n",
      "XP_8( 0|0000000|6135555) |   20\n",
      "XP_8( 0|0000000|3333355) |   21\n",
      "XP_8( 0|0000000|6155555) |   22\n",
      "XP_8( 0|0000000|2661117) |   24\n",
      "XP_8( 0|0000000|6111117) |   26\n",
      "XP_8( 0|0000000|2222266) |   28\n",
      "XP_8( 0|0000000|6111177) |   30\n",
      "XP_8( 0|0000000|4222666) |   32\n",
      "XP_8( 0|0000000|3333555) |   35\n",
      "XP_8( 0|0000000|2222666) |   36\n",
      "XP_8( 0|0000000|0333555) |   40\n",
      "XP_8( 0|0000000|0003355) |   48\n",
      "XP_8( 0|0000000|4444444) |   64\n",
      "XP_8( 0|0000000|0000000) |  128\n"
     ]
    }
   ],
   "source": [
    "import add_parent_dir\n",
    "import numpy as np\n",
    "from common import *\n",
    "from NSpace import *\n",
    "from XPAlgebra import *\n",
    "from XPCodes import *\n",
    "from eigenspaces import *\n",
    "\n",
    "## N: precision of operator\n",
    "## n: number of operator\n",
    "N,n = 8,7\n",
    "## espaceDims: just report on the eigenspace dimensions which arise \n",
    "espaceDims(N,n)\n",
    "## diagOpReport: more detailed report on the distinct eigenspaces and their coset decomposition E_q + <L_X>\n",
    "# diagOpReport(N,n)\n"
   ]
  }
 ],
 "metadata": {
  "interpreter": {
   "hash": "93ecb60a143ed30565570a02d52015ed90447d3eff4b9455aa518b6d74e1c511"
  },
  "kernelspec": {
   "display_name": "Python 3.8.7 64-bit",
   "name": "python3"
  },
  "language_info": {
   "codemirror_mode": {
    "name": "ipython",
    "version": 3
   },
   "file_extension": ".py",
   "mimetype": "text/x-python",
   "name": "python",
   "nbconvert_exporter": "python",
   "pygments_lexer": "ipython3",
   "version": "3.7.1"
  },
  "orig_nbformat": 4
 },
 "nbformat": 4,
 "nbformat_minor": 2
}
