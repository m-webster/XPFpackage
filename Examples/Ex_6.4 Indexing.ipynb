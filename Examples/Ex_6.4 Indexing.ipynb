{
 "cells": [
  {
   "cell_type": "markdown",
   "source": [
    "# Examples 6.4, 6.5: Indexing of $E$ and Orbit Distance\r\n",
    "\r\n",
    "This notebook illustrates indexing of the Z-Support of the codewords for Code 1 (Example 6.4).\r\n",
    "\r\n",
    "For indexing of Code 2 (Example 6.5), un-comment the code where indicated."
   ],
   "metadata": {}
  },
  {
   "cell_type": "code",
   "execution_count": 2,
   "source": [
    "import add_parent_dir\r\n",
    "import numpy as np\r\n",
    "from common import *\r\n",
    "from NSpace import *\r\n",
    "from XPAlgebra import *\r\n",
    "from XPCodes import *\r\n",
    "\r\n",
    "## Code 1\r\n",
    "genstr = 'XP_8(8|0000000|6554444),XP_8(7|1111111|1241234),XP_8(1|1110000|3134444)'\r\n",
    "\r\n",
    "## Code 2\r\n",
    "## Un-comment to calculate logical operators for Code 2 (Example 6.3)\r\n",
    "genstr = 'XP8(0|0000000|1322224)\\nXP8(12|1111111|1234567)'\r\n",
    "\r\n",
    "setVerbose(False)\r\n",
    "G, N = str2XP(genstr)\r\n",
    "n = XPn(G)\r\n",
    "print('The Code Generators are G:')\r\n",
    "print(XP2Str(G,N),\"\\n\")\r\n",
    "C = Code(G,N)\r\n",
    "print(C.displayE())\r\n"
   ],
   "outputs": [
    {
     "output_type": "stream",
     "name": "stdout",
     "text": [
      "The Code Generators are G:\n",
      "XP_8( 0|0000000|1322224)\n",
      "XP_8(12|1111111|1234567) \n",
      "\n",
      "       SIndex |       0       1\n",
      "QIndex LIndex |                \n",
      "-------------------------------\n",
      "     0      0 | 0000000 1111111\n",
      "     1      0 | 0000111 1111000\n",
      "     2      0 | 0001011 1110100\n",
      "     3      0 | 0001101 1110010\n",
      "     0      1 | 0011110 1100001\n",
      "     1      1 | 0011001 1100110\n",
      "     2      1 | 0010101 1101010\n",
      "     3      1 | 0010011 1101100\n"
     ]
    }
   ],
   "metadata": {}
  }
 ],
 "metadata": {
  "orig_nbformat": 4,
  "language_info": {
   "name": "python",
   "version": "3.8.7",
   "mimetype": "text/x-python",
   "codemirror_mode": {
    "name": "ipython",
    "version": 3
   },
   "pygments_lexer": "ipython3",
   "nbconvert_exporter": "python",
   "file_extension": ".py"
  },
  "kernelspec": {
   "name": "python3",
   "display_name": "Python 3.8.7 64-bit"
  },
  "interpreter": {
   "hash": "93ecb60a143ed30565570a02d52015ed90447d3eff4b9455aa518b6d74e1c511"
  }
 },
 "nbformat": 4,
 "nbformat_minor": 2
}