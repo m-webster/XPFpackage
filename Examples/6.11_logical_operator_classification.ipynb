{
 "cells": [
  {
   "cell_type": "markdown",
   "metadata": {},
   "source": [
    "# Example 6.11 Logical Operator Classification\n",
    "\n",
    "This notebook looks at classification of logical operators into regular and core operators for Code 2.\n",
    "\n",
    "This code is made available subject to [GPL licensing](https://www.gnu.org/licenses/gpl-3.0.en.html). Readers who wish to modify the code can either download the [Github repository](https://github.com/m-webster/XPFpackage) or use online services such as [Binder](https://mybinder.org/) or [Colab](https://colab.research.google.com/)."
   ]
  },
  {
   "cell_type": "code",
   "execution_count": 1,
   "metadata": {},
   "outputs": [
    {
     "name": "stdout",
     "output_type": "stream",
     "text": [
      "The Code Generators are: G =\n",
      "XP_8( 0|0000000|1322224)\n",
      "XP_8(12|1111111|1234567) \n",
      "\n",
      "Analysing: XP_8( 0|0000000|0062224)\n",
      "Is a Logical Operator\n",
      "F vector: [0 0 0 0 8 8 8 8]\n",
      "Regular/Core Analysis:\n",
      "       | QIndex                     \n",
      "LIndex |      0      1      2      3\n",
      "------------------------------------\n",
      "     0 |      0      0      0      0\n",
      "     1 |      8      8      8      8\n",
      "\n",
      "\n",
      "Analysing: XP_8( 0|0000000|0026620)\n",
      "Is a Logical Operator\n",
      "F vector: [0 0 0 8 0 0 0 8]\n",
      "Regular/Core Analysis:\n",
      "       | QIndex                     \n",
      "LIndex |      0      1      2      3\n",
      "------------------------------------\n",
      "     0 |      0      0      0      8\n",
      "     1 |      0      0      0      8\n",
      "\n",
      "\n",
      "Analysing: XP_8( 0|0000000|0277772)\n",
      "Is a Logical Operator\n",
      "F vector: [0 0 0 0 8 0 0 0]\n",
      "Regular/Core Analysis:\n",
      "       | QIndex                     \n",
      "LIndex |      0      1      2      3\n",
      "------------------------------------\n",
      "     0 |      0      0      0      0\n",
      "     1 |      8      0      0      0\n",
      "\n",
      "\n"
     ]
    }
   ],
   "source": [
    "import add_parent_dir\n",
    "import numpy as np\n",
    "from common import *\n",
    "from NSpace import *\n",
    "from XPAlgebra import *\n",
    "from XPCodes import *\n",
    "\n",
    "## Code 1\n",
    "# genstr = 'XP_8(8|0000000|6554444),XP_8(7|1111111|1241234),XP_8(1|1110000|3134444)'\n",
    "\n",
    "## Code 2\n",
    "## Un-comment to use Code 2\n",
    "genstr = 'XP8(0|0000000|1322224)\\nXP8(12|1111111|1234567)'\n",
    "\n",
    "setVerbose(False)\n",
    "G, N = str2XP(genstr)\n",
    "n = XPn(G)\n",
    "print('The Code Generators are: G =')\n",
    "print(XP2Str(G,N),\"\\n\")\n",
    "C = Code(G,N)\n",
    "\n",
    "opstr = 'XP8(0|0000000|0062224),XP8(0|0000000|0026620),XP8(0|0000000|0277772)'\n",
    "L, N = str2XP(opstr)\n",
    "for A in L:\n",
    "    print(C.analyseLO(A))\n",
    "    print(\"\\n\")\n",
    "\n"
   ]
  }
 ],
 "metadata": {
  "interpreter": {
   "hash": "93ecb60a143ed30565570a02d52015ed90447d3eff4b9455aa518b6d74e1c511"
  },
  "kernelspec": {
   "display_name": "Python 3.8.7 64-bit",
   "name": "python3"
  },
  "language_info": {
   "codemirror_mode": {
    "name": "ipython",
    "version": 3
   },
   "file_extension": ".py",
   "mimetype": "text/x-python",
   "name": "python",
   "nbconvert_exporter": "python",
   "pygments_lexer": "ipython3",
   "version": "3.8.7"
  },
  "orig_nbformat": 4
 },
 "nbformat": 4,
 "nbformat_minor": 2
}
