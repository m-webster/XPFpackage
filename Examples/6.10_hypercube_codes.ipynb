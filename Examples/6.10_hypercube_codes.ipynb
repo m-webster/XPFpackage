{
 "cells": [
  {
   "cell_type": "markdown",
   "metadata": {},
   "source": [
    "# Example 6.10 Logical Operators for Hypercube Codes\n",
    "This notebook illustrates the application of the logical operator algorithm for Hypercube codes. The example illustrates that  Hypercube codes of dimension $D$, the XP code of precision $N = 2^D$  has a logical generalised controlled Z operator at the $(D-1)$ st level of the Clifford Hierarchy. This noteboook calculates a generating set of operators which produces all possible diagonal logical actions for Hypercube codes.\n",
    "\n",
    "## Hypercube Codes\n",
    "To construct a Hypercube Code, we first construct a $D$-dimensional hypercube. We place qubits on each vertex. \n",
    "\n",
    "The stabilizer generators of the code are as follows:\n",
    "- Diagonal Stabilizers: Z operators on vertices of each 2-dimensional face\n",
    "- Non-diagonal Stabilizers: X operators on all vertices of the hypercube\n",
    "\n",
    "For Hypercube codes of dimension $D$, the XP code of precision $N = 2^D$  has a logical generalised controlled Z operator at the $(D-1)$ st level of the Clifford Hierarchy.\n",
    "\n",
    "In the code below, you can vary the dimension $D$ of the hypercube, as well as the dimension of the faces, xDim and zDim, for construction of the stabilizer generators. The program determines which logical actions can be applied by diagonal logical operators (FD) and the XP operators which apply these actions (LD).\n",
    "\n",
    "To run different scenarios click here: [![Binder](https://mybinder.org/badge_logo.svg)](https://mybinder.org/v2/gh/m-webster/XPFpackage/HEAD?urlpath=tree/Examples)\n",
    "\n",
    "This code is Copyright 2021 Mark Webster, and is made available subject to [GPL licensing](https://www.gnu.org/licenses/gpl-3.0.en.html)."
   ]
  },
  {
   "cell_type": "code",
   "execution_count": 1,
   "metadata": {},
   "outputs": [
    {
     "name": "stdout",
     "output_type": "stream",
     "text": [
      "3-Dimensional Hypercube Code\n",
      "Diagonal Stabilizer Generators: Z operators on vertices of each 2-dimensional face\n",
      "Non-Diagonal Stabilizer Generators: X operators on vertices of each 3-dimensional face\n",
      "\n",
      "Generators G:\n",
      "XP_8( 0|11111111|00000000)\n",
      "XP_8( 0|00000000|44440000)\n",
      "XP_8( 0|00000000|00004444)\n",
      "XP_8( 0|00000000|44004400)\n",
      "XP_8( 0|00000000|00440044)\n",
      "XP_8( 0|00000000|40404040)\n",
      "XP_8( 0|00000000|04040404)\n",
      "Codespace dimension 8\n",
      "\n",
      "FD: Diagonal logical actions:\n",
      " 1  1  1  1  1  1  1  1\n",
      " 0  8  0  0  0  0  0  0\n",
      " 0  0  8  0  0  0  0  0\n",
      " 0  0  0  8  0  0  0  0\n",
      " 0  0  0  0  8  0  0  0\n",
      " 0  0  0  0  0  8  0  0\n",
      " 0  0  0  0  0  0  8  0\n",
      " 0  0  0  0  0  0  0  8\n",
      "\n",
      "LD: Logical operators applying these actions:\n",
      "XP_8( 1|00000000|00000000)\n",
      "XP_8( 0|00000000|75753131)\n",
      "XP_8( 0|00000000|11771177)\n",
      "XP_8( 0|00000000|13315775)\n",
      "XP_8( 0|00000000|11553377)\n",
      "XP_8( 0|00000000|13137575)\n",
      "XP_8( 0|00000000|77115533)\n",
      "XP_8( 0|00000000|75571331)\n"
     ]
    }
   ],
   "source": [
    "import add_parent_dir\n",
    "from hypercube import *\n",
    "from common import *\n",
    "from XPAlgebra import *\n",
    "\n",
    "## D: dimension of Hypercube\n",
    "D = 3\n",
    "print(f'{D}-Dimensional Hypercube Code')\n",
    "\n",
    "## n: number of qubits\n",
    "n = 1 << D\n",
    "C = HyperCube(D)\n",
    "\n",
    "zDim = 2\n",
    "xDim = D\n",
    "print(f'Diagonal Stabilizer Generators: Z operators on vertices of each {zDim}-dimensional face')\n",
    "print(f'Non-Diagonal Stabilizer Generators: X operators on vertices of each {xDim}-dimensional face')\n",
    "## X stabilizers are on faces of dimension xDim\n",
    "SX = makeXP(0,C[xDim],0) if xDim >= 0 and xDim <=D else ZMat([],2*n+1)\n",
    "## Z stabilizers are on face of dimension zDim\n",
    "SZ = makeXP(0,0,C[zDim]) if zDim >= 0 and zDim <=D else ZMat([],2*n+1)\n",
    "\n",
    "G = np.vstack([SX,SZ])\n",
    "# print(XP2Str(G,N))\n",
    "## Operators are initially precision N=2, but need to convert to precision P\n",
    "N = 2\n",
    "P = max(2,n)\n",
    "G = XPSetN(G,N,P)\n",
    "N = P\n",
    "\n",
    "print('\\nGenerators G:')\n",
    "print(XP2Str(G,P))\n",
    "C = Code(G,P)\n",
    "\n",
    "Em = getVal(C,'Em')\n",
    "print('Codespace dimension',len(Em))\n",
    "\n",
    "LD,FD = getVals(C,['LD','FD'])\n",
    "print('\\nFD: Diagonal logical actions:')\n",
    "print(ZmatPrint(FD,2*P))\n",
    "print('\\nLD: Logical operators applying these actions:')\n",
    "print(XP2Str(LD,P))"
   ]
  }
 ],
 "metadata": {
  "interpreter": {
   "hash": "93ecb60a143ed30565570a02d52015ed90447d3eff4b9455aa518b6d74e1c511"
  },
  "kernelspec": {
   "display_name": "Python 3.8.7 64-bit",
   "name": "python3"
  },
  "language_info": {
   "codemirror_mode": {
    "name": "ipython",
    "version": 3
   },
   "file_extension": ".py",
   "mimetype": "text/x-python",
   "name": "python",
   "nbconvert_exporter": "python",
   "pygments_lexer": "ipython3",
   "version": "3.7.1"
  },
  "orig_nbformat": 4
 },
 "nbformat": 4,
 "nbformat_minor": 2
}
