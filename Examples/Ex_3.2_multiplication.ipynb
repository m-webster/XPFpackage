{
 "cells": [
  {
   "cell_type": "markdown",
   "source": [
    "# Example 3.2: Multiplication of XP Operators\r\n",
    "\r\n",
    "This example illustrates the algorithm for multiplication of XP operators using the generalised symplectic product\r\n",
    "\r\n",
    "Let $N = 4, n=3$ so that unique vector representations of XP operators are $XP_N(p|\\mathbf{x}|\\mathbf{z})$ where  $(p|\\mathbf{x}|\\mathbf{z}) \\in \\mathbb{Z}_{8} \\times \\mathbb{Z}_2^3\\times \\mathbb{Z}_4^3$"
   ],
   "metadata": {}
  },
  {
   "cell_type": "code",
   "execution_count": 4,
   "source": [
    "import add_parent_dir\r\n",
    "import numpy as np\r\n",
    "from common import *\r\n",
    "from NSpace import *\r\n",
    "from XPAlgebra import *\r\n",
    "from XPCodes import *\r\n",
    "\r\n",
    "A1str = 'XP_4( 2 | 1 1 1 |3 3 0)'\r\n",
    "A2str = 'XP_4(6 | 0 1 0 |0 2 0)'\r\n",
    "u1,N = str2XP(A1str)\r\n",
    "u2,N = str2XP(A2str)\r\n",
    "\r\n",
    "## Un-comment below to test using randomly generated XP Operators\r\n",
    "# ## number of qubits\r\n",
    "# n = 7\r\n",
    "# ## precision\r\n",
    "# N = 8\r\n",
    "# ## generate 2 random XP operators\r\n",
    "# u1,u2 = XPRandom(n,N,2)\r\n",
    "\r\n",
    "print('A1 =',XP2Str(u1,N))\r\n",
    "print('Vector representation of A1: u1 =',u1)\r\n",
    "print('A2 =',XP2Str(u2,N))\r\n",
    "print('Vector representation of A2: u2 =',u2)\r\n",
    "print('Note that vector representations are in form x|z|p in this python implementation.')\r\n",
    "print('\\n')\r\n",
    "print('By the MUL rule, A_1 A_2 = XP_4(u1+u2)D_4(2 x2 z1)')\r\n",
    "x2,z1 = XPx(u2), XPz(u1)\r\n",
    "uD = XPD(2*x2*z1)\r\n",
    "print('We first calculate D_4(2 x2 z1):')\r\n",
    "print('2 x2 z1 \\t=',2,'*',x2,'*',z1 )\r\n",
    "print('\\t\\t=',2*x2*z1 )\r\n",
    "print('The vector represetation of D_4(2 x2 z1) is given by:')\r\n",
    "print('uD \\t= ', uD)\r\n",
    "print('Taking appropriate modulus of each component:')\r\n",
    "uD = XPRound(uD,N)\r\n",
    "print('uD \\t= ', uD)\r\n",
    "print('Hence D_4(2 x2 z1) = ', XP2Str(uD,N))\r\n",
    "\r\n",
    "print('\\n')\r\n",
    "print('We calculate A1 A2 by adding the vector representations of A1, A2 and D_4(2 x2 z1):')\r\n",
    "u1u2 = u1 + u2 + uD\r\n",
    "print('u12 \\t= u1 + u2 + uD')\r\n",
    "print('\\t=',u1,\"+\",u2,\"+\",uD)\r\n",
    "print(\"\\t=\",u1u2)\r\n",
    "print(\"Unique representation is obtained by taking the appropriate modulus of each component:\")\r\n",
    "u1u2 = XPRound(u1u2,N)\r\n",
    "print(\"u1u2\\t=\",u1u2)\r\n",
    "print('Which represents the operator A1 A2 =',XP2Str(u1u2,N))\r\n",
    "\r\n",
    "print('\\n')\r\n",
    "u3 = XPMul(u1,u2,N)\r\n",
    "print('Testing vs XPMul function:', np.array_equal(u3,u1u2))\r\n",
    "print('Testing vs Complex matrix representation:', XPMul(u1,u2,N,u3))"
   ],
   "outputs": [
    {
     "output_type": "stream",
     "name": "stdout",
     "text": [
      "A1 = XP_8(15|0101001|2441466)\n",
      "Vector representation of A1: u1 = [ 0  1  0  1  0  0  1  2  4  4  1  4  6  6 15]\n",
      "A2 = XP_8( 2|0010001|5047323)\n",
      "Vector representation of A2: u2 = [0 0 1 0 0 0 1 5 0 4 7 3 2 3 2]\n",
      "Note that vector representations are in form x|z|p in this python implementation.\n",
      "\n",
      "\n",
      "By the MUL rule, A_1 A_2 = XP_4(u1+u2)D_4(2 x2 z1)\n",
      "We first calculate D_4(2 x2 z1):\n",
      "2 x2 z1 \t= 2 * [0 0 1 0 0 0 1] * [2 4 4 1 4 6 6]\n",
      "\t\t= [ 0  0  8  0  0  0 12]\n",
      "The vector represetation of D_4(2 x2 z1) is given by:\n",
      "uD \t=  [  0   0   0   0   0   0   0   0   0  -8   0   0   0 -12  20]\n",
      "Taking appropriate modulus of each component:\n",
      "uD \t=  [0 0 0 0 0 0 0 0 0 0 0 0 0 4 4]\n",
      "Hence D_4(2 x2 z1) =  XP_8( 4|0000000|0000004)\n",
      "\n",
      "\n",
      "We calculate A1 A2 by adding the vector representations of A1, A2 and D_4(2 x2 z1):\n",
      "u12 \t= u1 + u2 + uD\n",
      "\t= [ 0  1  0  1  0  0  1  2  4  4  1  4  6  6 15] + [0 0 1 0 0 0 1 5 0 4 7 3 2 3 2] + [0 0 0 0 0 0 0 0 0 0 0 0 0 4 4]\n",
      "\t= [ 0  1  1  1  0  0  2  7  4  8  8  7  8 13 21]\n",
      "Unique representation is obtained by taking the appropriate modulus of each component:\n",
      "u1u2\t= [0 1 1 1 0 0 0 7 4 0 0 7 0 5 5]\n",
      "Which represents the operator A1 A2 = XP_8( 5|0111000|7400705)\n",
      "\n",
      "\n",
      "Testing vs XPMul function: True\n",
      "Testing vs Complex matrix representation: True\n"
     ]
    }
   ],
   "metadata": {}
  }
 ],
 "metadata": {
  "orig_nbformat": 4,
  "language_info": {
   "name": "python",
   "version": "3.8.7",
   "mimetype": "text/x-python",
   "codemirror_mode": {
    "name": "ipython",
    "version": 3
   },
   "pygments_lexer": "ipython3",
   "nbconvert_exporter": "python",
   "file_extension": ".py"
  },
  "kernelspec": {
   "name": "python3",
   "display_name": "Python 3.8.7 64-bit"
  },
  "interpreter": {
   "hash": "93ecb60a143ed30565570a02d52015ed90447d3eff4b9455aa518b6d74e1c511"
  }
 },
 "nbformat": 4,
 "nbformat_minor": 2
}