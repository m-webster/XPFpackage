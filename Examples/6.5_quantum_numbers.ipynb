{
 "cells": [
  {
   "cell_type": "markdown",
   "metadata": {},
   "source": [
    "# Examples 6.5, 6.6: Assigning Quantum Numbers to Codewords\n",
    "\n",
    "This notebook illustrates assignment of quantum numbers to the codewords for Code 1 (Example 6.5).\n",
    "\n",
    "For Code 2 (Example 6.6), un-comment the code where indicated.\n",
    "\n",
    "This code is made available subject to [GPL licensing](https://www.gnu.org/licenses/gpl-3.0.en.html). Readers who wish to modify the code can either download the [Github repository](https://github.com/m-webster/XPFpackage) or use online services such as [Binder](https://mybinder.org/) or [Colab](https://colab.research.google.com/)."
   ]
  },
  {
   "cell_type": "code",
   "execution_count": 3,
   "metadata": {},
   "outputs": [
    {
     "name": "stdout",
     "output_type": "stream",
     "text": [
      "The Code Generators are G:\n",
      "XP_8( 8|0000000|6554444)\n",
      "XP_8( 7|1111111|1241234)\n",
      "XP_8( 1|1110000|3134444) \n",
      "\n",
      "              Stabilizer Index |      00      10      01      11\n",
      "Logical Index       Core Index |                                \n",
      "----------------------------------------------------------------\n",
      "           00                0 | 0000001 1110001 0001110 1111110\n",
      "           10                0 | 0000100 1110100 0001011 1111011\n",
      "           01                0 | 0000010 1110010 0001101 1111101\n",
      "           11                0 | 0000111 1110111 0001000 1111000\n"
     ]
    }
   ],
   "source": [
    "import add_parent_dir\n",
    "import numpy as np\n",
    "from common import *\n",
    "from NSpace import *\n",
    "from XPAlgebra import *\n",
    "from XPCodes import *\n",
    "\n",
    "## Code 1\n",
    "genstr = 'XP_8(8|0000000|6554444),XP_8(7|1111111|1241234),XP_8(1|1110000|3134444)'\n",
    "\n",
    "## Code 2\n",
    "## Un-comment for Code 2 \n",
    "# genstr = 'XP8(0|0000000|1322224)\\nXP8(12|1111111|1234567)'\n",
    "\n",
    "setVerbose(False)\n",
    "G, N = str2XP(genstr)\n",
    "n = XPn(G)\n",
    "print('The Code Generators are G:')\n",
    "print(XP2Str(G,N),\"\\n\")\n",
    "C = Code(G,N)\n",
    "print(C.displayE())\n"
   ]
  }
 ],
 "metadata": {
  "interpreter": {
   "hash": "93ecb60a143ed30565570a02d52015ed90447d3eff4b9455aa518b6d74e1c511"
  },
  "kernelspec": {
   "display_name": "Python 3.8.7 64-bit",
   "name": "python3"
  },
  "language_info": {
   "codemirror_mode": {
    "name": "ipython",
    "version": 3
   },
   "file_extension": ".py",
   "mimetype": "text/x-python",
   "name": "python",
   "nbconvert_exporter": "python",
   "pygments_lexer": "ipython3",
   "version": "3.8.7"
  },
  "orig_nbformat": 4
 },
 "nbformat": 4,
 "nbformat_minor": 2
}
