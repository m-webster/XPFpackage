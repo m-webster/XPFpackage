{
 "cells": [
  {
   "cell_type": "markdown",
   "metadata": {},
   "source": [
    "# Example 3.2: Multiplication of XP Operators\n",
    "\n",
    "This example illustrates the algorithm for multiplication of XP operators using the generalised symplectic product\n",
    "\n",
    "You can also explore how multiplication works for random XP operators of arbitrary precision and length by uncommenting the code where indicated.\n",
    "\n",
    "To run different scenarios click here: [![Binder](https://mybinder.org/badge_logo.svg)](https://mybinder.org/v2/gh/m-webster/XPFpackage/HEAD?urlpath=tree/Examples)\n",
    "\n",
    "This code is Copyright 2021 Mark Webster, and is made available subject to [GPL licensing](https://www.gnu.org/licenses/gpl-3.0.en.html)."
   ]
  },
  {
   "cell_type": "code",
   "execution_count": 1,
   "metadata": {},
   "outputs": [
    {
     "name": "stdout",
     "output_type": "stream",
     "text": [
      "A1 = XP_4(2|111|330)\n",
      "Vector representation of A1: u1 = [1 1 1 3 3 0 2]\n",
      "A2 = XP_4(6|010|020)\n",
      "Vector representation of A2: u2 = [0 1 0 0 2 0 6]\n",
      "Note that vector representations are in form x|z|p in this python implementation.\n",
      "\n",
      "\n",
      "By the MUL rule, A_1 A_2 = XP_4(u1+u2)D_4(2 x2 z1)\n",
      "We first calculate D_4(2 x2 z1):\n",
      "2 x2 z1 \t= 2 * [0 1 0] * [3 3 0]\n",
      "\t\t= [0 6 0]\n",
      "The vector represetation of D_4(2 x2 z1) is given by:\n",
      "uD \t=  [ 0  0  0  0 -6  0  6]\n",
      "Taking appropriate modulus of each component:\n",
      "uD \t=  [0 0 0 0 2 0 6]\n",
      "Hence D_4(2 x2 z1) =  XP_4(6|000|020)\n",
      "\n",
      "\n",
      "We calculate A1 A2 by adding the vector representations of A1, A2 and D_4(2 x2 z1):\n",
      "u12 \t= u1 + u2 + uD\n",
      "\t= [1 1 1 3 3 0 2] + [0 1 0 0 2 0 6] + [0 0 0 0 2 0 6]\n",
      "\t= [ 1  2  1  3  7  0 14]\n",
      "Unique representation is obtained by taking the appropriate modulus of each component:\n",
      "u1u2\t= [1 0 1 3 3 0 6]\n",
      "Which represents the operator A1 A2 = XP_4(6|101|330)\n",
      "\n",
      "\n",
      "Testing vs XPMul function: True\n",
      "Testing vs Complex matrix representation: True\n"
     ]
    }
   ],
   "source": [
    "import add_parent_dir\n",
    "import numpy as np\n",
    "from common import *\n",
    "from NSpace import *\n",
    "from XPAlgebra import *\n",
    "from XPCodes import *\n",
    "\n",
    "A1str = 'XP_4( 2 | 1 1 1 |3 3 0)'\n",
    "A2str = 'XP_4(6 | 0 1 0 |0 2 0)'\n",
    "u1,N = str2XP(A1str)\n",
    "u2,N = str2XP(A2str)\n",
    "\n",
    "## Un-comment below to test using randomly generated XP Operators\n",
    "# ## number of qubits\n",
    "# n = 7\n",
    "# ## precision\n",
    "# N = 8\n",
    "# ## generate 2 random XP operators\n",
    "# u1,u2 = XPRandom(n,N,2)\n",
    "\n",
    "print('A1 =',XP2Str(u1,N))\n",
    "print('Vector representation of A1: u1 =',u1)\n",
    "print('A2 =',XP2Str(u2,N))\n",
    "print('Vector representation of A2: u2 =',u2)\n",
    "print('Note that vector representations are in form x|z|p in this python implementation.')\n",
    "print('\\n')\n",
    "print('By the MUL rule, A_1 A_2 = XP_4(u1+u2)D_4(2 x2 z1)')\n",
    "x2,z1 = XPx(u2), XPz(u1)\n",
    "uD = XPD(2*x2*z1)\n",
    "print('We first calculate D_4(2 x2 z1):')\n",
    "print('2 x2 z1 \\t=',2,'*',x2,'*',z1 )\n",
    "print('\\t\\t=',2*x2*z1 )\n",
    "print('The vector represetation of D_4(2 x2 z1) is given by:')\n",
    "print('uD \\t= ', uD)\n",
    "print('Taking appropriate modulus of each component:')\n",
    "uD = XPRound(uD,N)\n",
    "print('uD \\t= ', uD)\n",
    "print('Hence D_4(2 x2 z1) = ', XP2Str(uD,N))\n",
    "\n",
    "print('\\n')\n",
    "print('We calculate A1 A2 by adding the vector representations of A1, A2 and D_4(2 x2 z1):')\n",
    "u1u2 = u1 + u2 + uD\n",
    "print('u12 \\t= u1 + u2 + uD')\n",
    "print('\\t=',u1,\"+\",u2,\"+\",uD)\n",
    "print(\"\\t=\",u1u2)\n",
    "print(\"Unique representation is obtained by taking the appropriate modulus of each component:\")\n",
    "u1u2 = XPRound(u1u2,N)\n",
    "print(\"u1u2\\t=\",u1u2)\n",
    "print('Which represents the operator A1 A2 =',XP2Str(u1u2,N))\n",
    "\n",
    "print('\\n')\n",
    "u3 = XPMul(u1,u2,N)\n",
    "print('Testing vs XPMul function:', np.array_equal(u3,u1u2))\n",
    "print('Testing vs Complex matrix representation:', XPMul(u1,u2,N,u3))"
   ]
  }
 ],
 "metadata": {
  "interpreter": {
   "hash": "93ecb60a143ed30565570a02d52015ed90447d3eff4b9455aa518b6d74e1c511"
  },
  "kernelspec": {
   "display_name": "Python 3.8.7 64-bit",
   "name": "python3"
  },
  "language_info": {
   "codemirror_mode": {
    "name": "ipython",
    "version": 3
   },
   "file_extension": ".py",
   "mimetype": "text/x-python",
   "name": "python",
   "nbconvert_exporter": "python",
   "pygments_lexer": "ipython3",
   "version": "3.7.1"
  },
  "orig_nbformat": 4
 },
 "nbformat": 4,
 "nbformat_minor": 2
}
