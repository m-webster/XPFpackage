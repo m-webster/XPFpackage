{
 "cells": [
  {
   "cell_type": "markdown",
   "source": [
    "# Example 6.12 Logical Operator Classification\r\n",
    "\r\n",
    "This notebook looks at classification of logical operators into regular and core operators for Code 2."
   ],
   "metadata": {}
  },
  {
   "cell_type": "code",
   "execution_count": 1,
   "source": [
    "import add_parent_dir\r\n",
    "import numpy as np\r\n",
    "from common import *\r\n",
    "from NSpace import *\r\n",
    "from XPAlgebra import *\r\n",
    "from XPCodes import *\r\n",
    "\r\n",
    "## Code 1\r\n",
    "# genstr = 'XP_8(8|0000000|6554444),XP_8(7|1111111|1241234),XP_8(1|1110000|3134444)'\r\n",
    "\r\n",
    "## Code 2\r\n",
    "## Un-comment to use Code 2\r\n",
    "genstr = 'XP8(0|0000000|1322224)\\nXP8(12|1111111|1234567)'\r\n",
    "\r\n",
    "setVerbose(False)\r\n",
    "G, N = str2XP(genstr)\r\n",
    "n = XPn(G)\r\n",
    "print('The Code Generators are: G =')\r\n",
    "print(XP2Str(G,N),\"\\n\")\r\n",
    "C = Code(G,N)\r\n",
    "\r\n",
    "opstr = 'XP8(0|0000000|0062224),XP8(0|0000000|0026620),XP8(0|0000000|0277772)'\r\n",
    "L, N = str2XP(opstr)\r\n",
    "for A in L:\r\n",
    "    print(C.analyseLO(A))\r\n",
    "    print(\"\\n\")\r\n",
    "\r\n"
   ],
   "outputs": [
    {
     "output_type": "stream",
     "name": "stdout",
     "text": [
      "The Code Generators are: G =\n",
      "XP_8( 0|0000000|1322224)\n",
      "XP_8(12|1111111|1234567) \n",
      "\n",
      "Analysing: XP_8( 0|0000000|0062224)\n",
      "Is a Logical Operator\n",
      "F vector: [0 0 0 0 8 8 8 8]\n",
      "Regular/Core Analysis:\n",
      "       | QIndex                     \n",
      "LIndex |      0      1      2      3\n",
      "------------------------------------\n",
      "     0 |      0      0      0      0\n",
      "     1 |      8      8      8      8\n",
      "Analysing: XP_8( 0|0000000|0026620)\n",
      "Is a Logical Operator\n",
      "F vector: [0 0 0 8 0 0 0 8]\n",
      "Regular/Core Analysis:\n",
      "       | QIndex                     \n",
      "LIndex |      0      1      2      3\n",
      "------------------------------------\n",
      "     0 |      0      0      0      8\n",
      "     1 |      0      0      0      8\n",
      "Analysing: XP_8( 0|0000000|0277772)\n",
      "Is a Logical Operator\n",
      "F vector: [0 0 0 0 8 0 0 0]\n",
      "Regular/Core Analysis:\n",
      "       | QIndex                     \n",
      "LIndex |      0      1      2      3\n",
      "------------------------------------\n",
      "     0 |      0      0      0      0\n",
      "     1 |      8      0      0      0\n"
     ]
    }
   ],
   "metadata": {}
  }
 ],
 "metadata": {
  "orig_nbformat": 4,
  "language_info": {
   "name": "python",
   "version": "3.8.7",
   "mimetype": "text/x-python",
   "codemirror_mode": {
    "name": "ipython",
    "version": 3
   },
   "pygments_lexer": "ipython3",
   "nbconvert_exporter": "python",
   "file_extension": ".py"
  },
  "kernelspec": {
   "name": "python3",
   "display_name": "Python 3.8.7 64-bit"
  },
  "interpreter": {
   "hash": "93ecb60a143ed30565570a02d52015ed90447d3eff4b9455aa518b6d74e1c511"
  }
 },
 "nbformat": 4,
 "nbformat_minor": 2
}