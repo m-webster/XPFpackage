{
 "cells": [
  {
   "cell_type": "markdown",
   "source": [
    "# Examples 7.1, 7.2 Measurement of Diagonal Paulis\r\n",
    "\r\n",
    "This notebook illustrates the algorithm for measuring arbitrary XP operators on the code representing $|+\\rangle^{\\otimes 3}$."
   ],
   "metadata": {}
  },
  {
   "cell_type": "code",
   "execution_count": 1,
   "source": [
    "import add_parent_dir\r\n",
    "import numpy as np\r\n",
    "from common import *\r\n",
    "from NSpace import *\r\n",
    "from XPAlgebra import *\r\n",
    "from XPCodes import *\r\n",
    "\r\n",
    "## Code 3\r\n",
    "n = 3\r\n",
    "N = 4\r\n",
    "x = np.eye(n,dtype=int)\r\n",
    "G = makeXP(0,x,0)\r\n",
    "\r\n",
    "opstr = 'XP_4(0|000|113),XP_4(2|111|123)'\r\n",
    "L, P = str2XP(opstr)\r\n",
    "setVerbose(False)\r\n",
    "print('The Code Generators are: G =')\r\n",
    "print(XP2Str(G,N),\"\\n\")\r\n",
    "C = Code(G,N)\r\n",
    "CW = getVal(C,'Codewords')\r\n",
    "print('Codewords:')\r\n",
    "# print(CW)\r\n",
    "for c in CW:\r\n",
    "    print(State2Str(c,N))\r\n",
    "print(\"\\n\")\r\n",
    "\r\n",
    "P = 2*N\r\n",
    "for A in L:\r\n",
    "    print('Measuring ',XP2Str(A,N))\r\n",
    "    L, p1, CW1 = MeasureCodewords(CW,A,N)\r\n",
    "    for i in range(len(L)):\r\n",
    "        if p1[i] > 0:\r\n",
    "            print(f'Measurement Outcome: l=w^{L[i]}/{N}')\r\n",
    "            print(f'Probability: {p1[i]}')\r\n",
    "            print('Projected Codewords:')\r\n",
    "            # print('CW1',CW1[i])\r\n",
    "            for S,c in CW1[i]:\r\n",
    "                print(State2Str(S,P,c))\r\n",
    "            print(\"\\n\")\r\n"
   ],
   "outputs": [
    {
     "output_type": "stream",
     "name": "stdout",
     "text": [
      "The Code Generators are: G =\n",
      "XP_4(0|100|000)\n",
      "XP_4(0|010|000)\n",
      "XP_4(0|001|000) \n",
      "\n",
      "Codewords:\n",
      "|000>+|001>+|010>+|011>+|100>+|101>+|110>+|111>\n",
      "Measuring  XP_4(0|000|113)\n",
      "Measurement Outcome: l=w^0/4\n",
      "Probability: 0.375\n",
      "Projected Codewords:\n",
      "|000>+|011>+|101>\n",
      "\n",
      "\n",
      "Measurement Outcome: l=w^2/4\n",
      "Probability: 0.375\n",
      "Projected Codewords:\n",
      "|010>+|100>+|111>\n",
      "\n",
      "\n",
      "Measurement Outcome: l=w^4/4\n",
      "Probability: 0.125\n",
      "Projected Codewords:\n",
      "|110>\n",
      "\n",
      "\n",
      "Measurement Outcome: l=w^6/4\n",
      "Probability: 0.125\n",
      "Projected Codewords:\n",
      "|001>\n",
      "\n",
      "\n",
      "Measuring  XP_4(2|111|123)\n",
      "Measurement Outcome: l=w^0/4\n",
      "Probability: 0.5\n",
      "Projected Codewords:\n",
      "0.707w14/16|000>+|001>+0.707w2/16|010>+0.707w14/16|101>+|110>+0.707w2/16|111>\n",
      "\n",
      "\n",
      "Measurement Outcome: l=w^4/4\n",
      "Probability: 0.5\n",
      "Projected Codewords:\n",
      "0.707w2/16|000>+0.707w14/16|010>+|011>+|100>+0.707w2/16|101>+0.707w14/16|111>\n",
      "\n",
      "\n"
     ]
    }
   ],
   "metadata": {}
  }
 ],
 "metadata": {
  "orig_nbformat": 4,
  "language_info": {
   "name": "python",
   "version": "3.8.7",
   "mimetype": "text/x-python",
   "codemirror_mode": {
    "name": "ipython",
    "version": 3
   },
   "pygments_lexer": "ipython3",
   "nbconvert_exporter": "python",
   "file_extension": ".py"
  },
  "kernelspec": {
   "name": "python3",
   "display_name": "Python 3.8.7 64-bit"
  },
  "interpreter": {
   "hash": "93ecb60a143ed30565570a02d52015ed90447d3eff4b9455aa518b6d74e1c511"
  }
 },
 "nbformat": 4,
 "nbformat_minor": 2
}