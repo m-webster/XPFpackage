{
 "cells": [
  {
   "cell_type": "markdown",
   "metadata": {},
   "source": [
    "# Example 6.9 and 6.10: Logical Action of Diagonal Operators\n",
    "\n",
    "This notebook demonstrates how to determine which logical actions arise in an arbitrary XP Code for diagonal operators. Example 6.9 looks at this for Code 1 and Example 6.10 for Code 2.\n",
    "  \n",
    "This code is made available subject to [GPL licensing](https://www.gnu.org/licenses/gpl-3.0.en.html). Readers who wish to modify the code can either download the [Github repository](https://github.com/m-webster/XPFpackage) or use online services such as [Binder](https://mybinder.org/) or [Colab](https://colab.research.google.com/)."
   ]
  },
  {
   "cell_type": "code",
   "execution_count": 6,
   "metadata": {},
   "outputs": [
    {
     "name": "stdout",
     "output_type": "stream",
     "text": [
      "The Code Generators are: G =\n",
      "XP_8( 8|0000000|6554444)\n",
      "XP_8( 7|1111111|1241234)\n",
      "XP_8( 1|1110000|3134444) \n",
      "\n",
      "The non-diagonal logical generators are: LX =\n",
      "XP_8( 2|0000101|0000204) f-vector [0 0 0 0]\n",
      "XP_8( 1|0000011|0000034) f-vector [0 0 0 0]\n",
      "\n",
      "The diagonal logical generators are: LZ =\n",
      "XP_8( 0|0000000|0002226) f-vector [12  4  4  4]\n",
      "XP_8( 0|0000000|0000404) f-vector [8 8 0 0]\n",
      "XP_8( 0|0000000|0000044) f-vector [8 0 8 0]\n",
      "\n",
      "Append wI =  XP_8( 1|0000000|0000000) to LZ\n",
      "The f-vectors corresponding to the elements of wI + LZ are: FZ =\n",
      " 1  1  1  1\n",
      "12  4  4  4\n",
      " 8  8  0  0\n",
      " 8  0  8  0\n",
      "\n",
      "The Howell Basis of FZ is: FD =\n",
      " 1  1  1  1\n",
      " 0  8  0  0\n",
      " 0  0  8  0\n",
      " 0  0  0  8\n",
      "\n",
      "Diagonal logical operators with phase vectors corresponding to rows of FD:\n",
      "XP_8( 1|0000000|0000000) f-vector [1 1 1 1]\n",
      "XP_8(12|0000000|0002622) f-vector [0 8 0 0]\n",
      "XP_8( 4|0000000|0006626) f-vector [0 0 8 0]\n",
      "XP_8(12|0000000|0006222) f-vector [0 0 0 8]\n"
     ]
    }
   ],
   "source": [
    "import add_parent_dir\n",
    "import numpy as np\n",
    "from common import *\n",
    "from NSpace import *\n",
    "from XPAlgebra import *\n",
    "from XPCodes import *\n",
    "\n",
    "## Code 1\n",
    "genstr = 'XP_8(8|0000000|6554444),XP_8(7|1111111|1241234),XP_8(1|1110000|3134444)'\n",
    "\n",
    "## Code 2\n",
    "## Un-comment to use Code 2\n",
    "# genstr = 'XP8(0|0000000|1322224),XP8(12|1111111|1234567)'\n",
    "\n",
    "setVerbose(False)\n",
    "G, N = str2XP(genstr)\n",
    "n = XPn(G)\n",
    "print('The Code Generators are: G =')\n",
    "print(XP2Str(G,N),\"\\n\")\n",
    "C = Code(G,N)\n",
    "LX, LO, EmState = getVals(C,['LogicalX','LO','EmState'])\n",
    "# print('EmState')\n",
    "# print(XP2Str(EmState,N))\n",
    "# # print(State2Str(EmState,N))\n",
    "LX,LZ = splitDiag(LO)\n",
    "print('The non-diagonal logical generators are: LX =')\n",
    "for A in LX:\n",
    "    print(XP2Str(A,N),'f-vector',C.Fvector(A))\n",
    "\n",
    "print('\\nThe diagonal logical generators are: LZ =')\n",
    "for A in LZ:\n",
    "    print(XP2Str(A,N),'f-vector',C.Fvector(A))\n",
    "wI = getVal(C,'wI')\n",
    "print('\\nAppend wI = ',XP2Str(wI,N), 'to LZ')\n",
    "LZ = np.vstack([[wI],LZ])\n",
    "print('The f-vectors corresponding to the elements of wI + LZ are: FZ =')\n",
    "FZ = ZMat([C.Fvector(A) for A in LZ])\n",
    "print(ZmatPrint(FZ,2*N))\n",
    "LD,FD = getVals(C,['LD','FD'])\n",
    "print('\\nThe Howell Basis of FZ is: FD =')\n",
    "print(ZmatPrint(FD,2*N))\n",
    "print('\\nDiagonal logical operators with phase vectors corresponding to rows of FD:')\n",
    "for A in LD:\n",
    "    print(XP2Str(A,N),'f-vector',C.Fvector(A))\n",
    "\n"
   ]
  }
 ],
 "metadata": {
  "interpreter": {
   "hash": "93ecb60a143ed30565570a02d52015ed90447d3eff4b9455aa518b6d74e1c511"
  },
  "kernelspec": {
   "display_name": "Python 3.8.7 64-bit",
   "name": "python3"
  },
  "language_info": {
   "codemirror_mode": {
    "name": "ipython",
    "version": 3
   },
   "file_extension": ".py",
   "mimetype": "text/x-python",
   "name": "python",
   "nbconvert_exporter": "python",
   "pygments_lexer": "ipython3",
   "version": "3.8.7"
  },
  "orig_nbformat": 4
 },
 "nbformat": 4,
 "nbformat_minor": 2
}
