{
 "cells": [
  {
   "cell_type": "markdown",
   "source": [
    "# Example 4.5: Calculating Code Words\r\n",
    "In this notebook, we illustrate the operation of the code words algorithm. \r\n",
    "\r\n",
    "We start with a set of XP operators $ \\mathbf{G} $ which are the generators of the stabilizer code:\r\n"
   ],
   "metadata": {}
  },
  {
   "cell_type": "code",
   "execution_count": 1,
   "source": [
    "import add_parent_dir\r\n",
    "import numpy as np\r\n",
    "from common import *\r\n",
    "from NSpace import *\r\n",
    "from XPAlgebra import *\r\n",
    "from XPCodes import *\r\n",
    "\r\n",
    "## Code 1\r\n",
    "genstr = 'XP_8(8|0000000|6554444),XP_8(7|1111111|1241234),XP_8(1|1110000|3134444)'\r\n",
    "\r\n",
    "## Code 2\r\n",
    "# genstr = 'XP8(0|0000000|1322224),XP8(12|1111111|1234567)'\r\n",
    "\r\n",
    "## Code 3\r\n",
    "# genstr = 'XP_2(0|000|110)'\r\n",
    "\r\n",
    "## Code 4\r\n",
    "# genstr = 'XP_16(0|0000|8 12 14 7),XP_16(0|0000|8 4 10 13)'\r\n",
    "\r\n",
    "\r\n",
    "G, N = str2XP(genstr)\r\n",
    "G = ZMat2D(G)\r\n",
    "n = XPn(G)\r\n",
    "print(f'The code is precision N={N} on n={n} qubits.')\r\n",
    "print('\\n')\r\n",
    "print('The Code Generators are G:')\r\n",
    "print(XP2Str(G,N),\"\\n\")\r\n"
   ],
   "outputs": [
    {
     "output_type": "stream",
     "name": "stdout",
     "text": [
      "The code is precision N=8 on n=7 qubits.\n",
      "\n",
      "\n",
      "The Code Generators are G:\n",
      "XP_8( 8|0000000|6554444)\n",
      "XP_8( 7|1111111|1241234)\n",
      "XP_8( 1|1110000|3134444) \n",
      "\n"
     ]
    }
   ],
   "metadata": {}
  },
  {
   "cell_type": "markdown",
   "source": [
    "## Step 1: Canonical Generators\r\n",
    "The canonical generators $\\mathbf{S}_X,\\mathbf{S}_Z$ for the code are:\r\n"
   ],
   "metadata": {}
  },
  {
   "cell_type": "code",
   "execution_count": 2,
   "source": [
    "S = CanonicalGenerators(G,N)\r\n",
    "SX,SZ = splitDiag(S)\r\n",
    "print('SX:')\r\n",
    "print(XP2Str(SX,N))\r\n",
    "print('SZ:')\r\n",
    "print(XP2Str(SZ,N))"
   ],
   "outputs": [
    {
     "output_type": "stream",
     "name": "stdout",
     "text": [
      "SX:\n",
      "XP_8( 9|1110000|1240000)\n",
      "XP_8(14|0001111|0001234)\n",
      "SZ:\n",
      "XP_8( 8|0000000|2334444)\n",
      "XP_8( 0|0000000|0440000)\n"
     ]
    }
   ],
   "metadata": {}
  },
  {
   "cell_type": "markdown",
   "source": [
    "## Step 2: Orbit Representatives\r\n",
    "We calculate $S_{Zp}$ by taking the phase and Z components each element $B$ of $\\mathbf{S}_Z$.\r\n",
    "\r\n",
    "If $B = XP_N(p|\\mathbf{x}|\\mathbf{z})$ then $S_{Zp}(B) = (\\mathbf{z}|p/2)$.\r\n",
    "\r\n",
    "The Simultaneous $+1$ eigenspace of $\\mathbf{S}_Z$ is given by the binary vectors $\\mathbf{e}$ such that:\r\n",
    "\r\n",
    "$$S_{Zp} (\\mathbf{e}|1)  \\mod N = \\mathbf{0}$$\r\n",
    "\r\n",
    "Solutions are of form $(\\mathbf{e}|1) = a K \\mod N$ where $K$ is a Howell basis of $\\ker(S_{Zp})$ and $\\mathbf{a}$ is a vector of length $|K|$ with entries in $\\mathbb{Z}_N$.\r\n",
    "\r\n",
    "The exhaustive algorithm adds all possible linear combinations of rows of $K$ and the solutions are those sums which result in a binary vector of form $(\\mathbf{e}|1) = \\mathbf{a}K \\mod N$ for some combination represented by the vector $\\mathbf{a}$. This is of exponential complexity.\r\n",
    "\r\n",
    "The optimised graph search algorithm reduces the size of the search space by setting $\\mathbf{e}[l] = 0$ whenever $l$ is a leading index of $S_X$, where $S_X$ is the matrix formed from the X components of the canonical generators.\r\n",
    "\r\n",
    "The graph search algorithm outputs a matrix $A$ such that each row $\\mathbf{a}$ of $A$ is a valid combination yielding a binary vector of the required form.\r\n",
    "\r\n",
    "The orbit representatives $E_m$ are the rows of $AK \\mod N$ but with the final column of all 1's dropped:"
   ],
   "metadata": {}
  },
  {
   "cell_type": "code",
   "execution_count": 3,
   "source": [
    "SZp = XP2Zp(SZ,N,double=False)\r\n",
    "print('SZp: Z components and phase of diagonal canonical generators:')\r\n",
    "print(ZmatPrint(SZp,N))\r\n",
    "print('\\n')\r\n",
    "\r\n",
    "nsp = NSpace(SZp,N)\r\n",
    "nsp.simplifyKer()\r\n",
    "K = nsp.K\r\n",
    "\r\n",
    "print('K: Howell basis of Kernel of SZp:')\r\n",
    "print(ZmatPrint(K,N))\r\n",
    "print('\\n')\r\n",
    "\r\n",
    "SXx = XPx(SX)\r\n",
    "print('SXx: X components of non-diagonal canoncial generators SX:')\r\n",
    "print(ZmatPrint(SXx,2))\r\n",
    "print('\\n')\r\n",
    "\r\n",
    "print('Li: The leading indices of SXx:')\r\n",
    "li = leadingIndices(SXx)\r\n",
    "print(li)\r\n",
    "print('\\n')\r\n",
    "\r\n",
    "x = ZMat([2]*(n+1))\r\n",
    "x[li] = 0\r\n",
    "x[-1] = 1\r\n",
    "\r\n",
    "###### Calculate the solution graph D by calling espaceSolve\r\n",
    "# D is the graph\r\n",
    "# (n,b) is the starting node for the solution\r\n",
    "D,(n,b) = espaceSolve(K,N,b=None,x=x)\r\n",
    "\r\n",
    "###### convert graph D to a list L\r\n",
    "# L is a list of vectors c modulo N of length m\r\n",
    "# representing linear combinations of the rows of K\r\n",
    "A = graph2List(D,(n,b),rev=True)\r\n",
    "A = ZMat(A)\r\n",
    "\r\n",
    "print('Graph Search Algorithm yields the following solutions A:')\r\n",
    "print(ZmatPrint(A,N))\r\n",
    "print('\\n')\r\n",
    "Em = np.mod(A @ K,N)\r\n",
    "print('AK mod N:')\r\n",
    "print(ZmatPrint(Em,2))\r\n",
    "print('\\n')\r\n",
    "print('Em: drop the final column of all 1\\'s from AK mod N:')\r\n",
    "Em = Em[:,:-1]\r\n",
    "print(ZmatPrint(Em,2))\r\n",
    "print('\\n')"
   ],
   "outputs": [
    {
     "output_type": "stream",
     "name": "stdout",
     "text": [
      "SZp: Z components and phase of diagonal canonical generators:\n",
      "23344444\n",
      "04400000\n",
      "\n",
      "\n",
      "K: Howell basis of Kernel of SZp:\n",
      "10200000\n",
      "01300001\n",
      "00400001\n",
      "00010001\n",
      "00001001\n",
      "00000101\n",
      "00000011\n",
      "00000002\n",
      "\n",
      "\n",
      "SXx: X components of non-diagonal canoncial generators SX:\n",
      "1110000\n",
      "0001111\n",
      "\n",
      "\n",
      "Li: The leading indices of SXx:\n",
      "[0, 3]\n",
      "\n",
      "\n",
      "Graph Search Algorithm yields the following solutions A:\n",
      "00200013\n",
      "00200103\n",
      "00201003\n",
      "00201112\n",
      "\n",
      "\n",
      "AK mod N:\n",
      "00000011\n",
      "00000101\n",
      "00001001\n",
      "00001111\n",
      "\n",
      "\n",
      "Em: drop the final column of all 1's from AK mod N:\n",
      "0000001\n",
      "0000010\n",
      "0000100\n",
      "0000111\n",
      "\n",
      "\n"
     ]
    }
   ],
   "metadata": {}
  },
  {
   "cell_type": "markdown",
   "source": [
    "## Step 3: Image of Orbit Representatives under Orbit Operator is a Basis of the Code Space\r\n",
    "\r\n",
    "We first calculate the orbit operator $O_{\\mathbf{S}_X}$, then apply $O_{\\mathbf{S}_X}$ to each element of $E_m$ to generate the codewords:"
   ],
   "metadata": {}
  },
  {
   "cell_type": "code",
   "execution_count": 4,
   "source": [
    "OSx,LIx = OrbitOperator(SX,N)\r\n",
    "print('Orbit operator OSx is the sum of the following XP operators:')\r\n",
    "print(XP2Str(OSx,N))\r\n",
    "print('\\n')\r\n",
    "print('Applying OSx to each element of Em yields the code words:')\r\n",
    "EmState = makeXP(0,Em,0)\r\n",
    "EmStr = ZMat2str(Em,2)\r\n",
    "for i in range(len(Em)):\r\n",
    "    m = EmState[i]\r\n",
    "    k = XPMul(OSx,m,N)\r\n",
    "    print(f'|k_{i}> = OSx|{EmStr[i]}> = {State2Str(k,N)}')"
   ],
   "outputs": [
    {
     "output_type": "stream",
     "name": "stdout",
     "text": [
      "Orbit operator OSx is the sum of the following XP operators:\n",
      "XP_8( 0|0000000|0000000)\n",
      "XP_8( 9|1110000|1240000)\n",
      "XP_8(14|0001111|0001234)\n",
      "XP_8( 7|1111111|1241234)\n",
      "\n",
      "\n",
      "Applying OSx to each element of Em yields the code words:\n",
      "|k_0> = OSx|0000001> = |0000001>+w6/16|0001110>+w9/16|1110001>+w15/16|1111110>\n",
      "|k_1> = OSx|0000010> = |0000010>+w4/16|0001101>+w9/16|1110010>+w13/16|1111101>\n",
      "|k_2> = OSx|0000100> = |0000100>+w2/16|0001011>+w9/16|1110100>+w11/16|1111011>\n",
      "|k_3> = OSx|0000111> = |0000111>+|0001000>+w9/16|1110111>+w9/16|1111000>\n"
     ]
    }
   ],
   "metadata": {}
  }
 ],
 "metadata": {
  "orig_nbformat": 4,
  "language_info": {
   "name": "python",
   "version": "3.8.7",
   "mimetype": "text/x-python",
   "codemirror_mode": {
    "name": "ipython",
    "version": 3
   },
   "pygments_lexer": "ipython3",
   "nbconvert_exporter": "python",
   "file_extension": ".py"
  },
  "kernelspec": {
   "name": "python3",
   "display_name": "Python 3.8.7 64-bit"
  },
  "interpreter": {
   "hash": "93ecb60a143ed30565570a02d52015ed90447d3eff4b9455aa518b6d74e1c511"
  }
 },
 "nbformat": 4,
 "nbformat_minor": 2
}
