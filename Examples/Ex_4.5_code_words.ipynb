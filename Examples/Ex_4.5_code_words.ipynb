{
 "cells": [
  {
   "cell_type": "markdown",
   "source": [
    "# Example 4.5: Calculating Code Words\r\n",
    "In this notebook, we illustrate the operation of the code words algorithm. \r\n",
    "\r\n",
    "We start with a set of XP operators $\\mathbf{G}$ which are the generators of the stabilizer code:\r\n"
   ],
   "metadata": {}
  },
  {
   "cell_type": "code",
   "execution_count": 9,
   "source": [
    "import add_parent_dir\r\n",
    "import numpy as np\r\n",
    "from common import *\r\n",
    "from NSpace import *\r\n",
    "from XPAlgebra import *\r\n",
    "from XPCodes import *\r\n",
    "\r\n",
    "## Code 1\r\n",
    "genstr = 'XP_8(8|0000000|6554444),XP_8(7|1111111|1241234),XP_8(1|1110000|3134444)'\r\n",
    "\r\n",
    "## Code 2\r\n",
    "# genstr = 'XP8(0|0000000|1322224)\\nXP8(12|1111111|1234567)'\r\n",
    "\r\n",
    "\r\n",
    "G, N = str2XP(genstr)\r\n",
    "n = XPn(G)\r\n",
    "print(f'The code is precision N={N} on n={n} qubits.')\r\n",
    "print('\\n')\r\n",
    "print('The Code Generators are G:')\r\n",
    "print(XP2Str(G,N),\"\\n\")\r\n"
   ],
   "outputs": [
    {
     "output_type": "stream",
     "name": "stdout",
     "text": [
      "The code is precision N=8 on n=7 qubits.\n",
      "\n",
      "\n",
      "The Code Generators are G:\n",
      "XP_8( 0|0000000|1322224)\n",
      "XP_8(12|1111111|1234567) \n",
      "\n"
     ]
    }
   ],
   "metadata": {}
  },
  {
   "cell_type": "markdown",
   "source": [
    "## Step 1: Canonical Generators\r\n",
    "The canonical generators $\\mathbf{S}_X,\\mathbf{S}_Z$ for the code are:\r\n"
   ],
   "metadata": {}
  },
  {
   "cell_type": "code",
   "execution_count": 10,
   "source": [
    "S = CanonicalGenerators(G,N)\r\n",
    "SX,SZ = splitDiag(S)\r\n",
    "print('SX:')\r\n",
    "print(XP2Str(SX,N))\r\n",
    "print('SZ:')\r\n",
    "print(XP2Str(SZ,N))"
   ],
   "outputs": [
    {
     "output_type": "stream",
     "name": "stdout",
     "text": [
      "SX:\n",
      "XP_8(12|1111111|0712343)\n",
      "SZ:\n",
      "XP_8( 0|0000000|1322224)\n"
     ]
    }
   ],
   "metadata": {}
  },
  {
   "cell_type": "markdown",
   "source": [
    "## Step 2: Orbit Representatives\r\n",
    "We calculate $S_{Zp}$ by taking the phase and Z components each element $B$ of $\\mathbf{S}_Z$.\r\n",
    "\r\n",
    "If $B = XP_N(p|\\mathbf{x}|\\mathbf{z})$ then $S_{Zp}(B) = (\\mathbf{z}|p/2)$.\r\n",
    "\r\n",
    "The Simultaneous $+1$ eigenspace of $\\mathbf{S}_Z$ is given by the binary vectors $\\mathbf{e}$ such that:\r\n",
    "\r\n",
    "$$S_{Zp} (\\mathbf{e}|1)  \\mod N = \\mathbf{0}$$\r\n",
    "\r\n",
    "Solutions are of form $(\\mathbf{e}|1) = a K \\mod N$ where $K$ is a Howell basis of $\\ker(S_{Zp})$ and $\\mathbf{a}$ is a vector of length $|K|$ with entries in $\\mathbb{Z}_N$.\r\n",
    "\r\n",
    "The exhaustive algorithm adds all possible linear combinations of rows of $K$ and the solutions are those sums which result in a binary vector of form $(\\mathbf{e}|1) = \\mathbf{a}K \\mod N$ for some combination represented by the vector $\\mathbf{a}$. This is of exponential complexity.\r\n",
    "\r\n",
    "The optimised graph search algorithm reduces the size of the search space by setting $\\mathbf{e}[l] = 0$ whenever $l$ is a leading index of $S_X$, where $S_X$ is the matrix formed from the X components of the canonical generators.\r\n",
    "\r\n",
    "The graph search algorithm outputs a matrix $A$ such that each row $\\mathbf{a}$ of $A$ is a valid combination yielding a binary vector of the required form.\r\n",
    "\r\n",
    "The orbit representatives $E_m$ are the rows of $AK \\mod N$ but with the final column of all 1's dropped:"
   ],
   "metadata": {}
  },
  {
   "cell_type": "code",
   "execution_count": 11,
   "source": [
    "SZp = XP2Zp(SZ,N,double=False)\r\n",
    "print('SZp: Z components and phase of diagonal canonical generators:')\r\n",
    "print(ZmatPrint(SZp,N))\r\n",
    "print('\\n')\r\n",
    "\r\n",
    "nsp = NSpace(SZp,N)\r\n",
    "nsp.simplifyKer()\r\n",
    "K = nsp.K\r\n",
    "\r\n",
    "print('K: Howell basis of Kernel of SZp:')\r\n",
    "print(ZmatPrint(K,N))\r\n",
    "print('\\n')\r\n",
    "\r\n",
    "SXx = XPx(SX)\r\n",
    "print('SXx: X components of non-diagonal canoncial generators SX:')\r\n",
    "print(ZmatPrint(SXx,2))\r\n",
    "print('\\n')\r\n",
    "\r\n",
    "print('Li: The leading indices of SXx:')\r\n",
    "li = leadingIndices(SXx)\r\n",
    "print(li)\r\n",
    "print('\\n')\r\n",
    "\r\n",
    "x = ZMat([2]*(n+1))\r\n",
    "x[li] = 0\r\n",
    "x[-1] = 1\r\n",
    "\r\n",
    "###### Calculate the solution graph D by calling espaceSolve\r\n",
    "# D is the graph\r\n",
    "# (n,b) is the starting node for the solution\r\n",
    "D,(n,b) = espaceSolve(K,N,b=None,x=x)\r\n",
    "\r\n",
    "###### convert graph D to a list L\r\n",
    "# L is a list of vectors c modulo N of length m\r\n",
    "# representing linear combinations of the rows of K\r\n",
    "A = graph2List(D,(n,b),rev=True)\r\n",
    "A = ZMat(A)\r\n",
    "\r\n",
    "print('Graph Search Algorithm yields the following solutions A:')\r\n",
    "print(ZmatPrint(A,N))\r\n",
    "print('\\n')\r\n",
    "Em = np.mod(A @ K,N)\r\n",
    "print('AK mod N:')\r\n",
    "print(ZmatPrint(Em,2))\r\n",
    "print('\\n')\r\n",
    "print('Em: drop the final column of all 1\\'s from AK mod N:')\r\n",
    "Em = Em[:,:-1]\r\n",
    "print(ZmatPrint(Em,2))\r\n",
    "print('\\n')"
   ],
   "outputs": [
    {
     "output_type": "stream",
     "name": "stdout",
     "text": [
      "SZp: Z components and phase of diagonal canonical generators:\n",
      "13222240\n",
      "\n",
      "\n",
      "K: Howell basis of Kernel of SZp:\n",
      "11000010\n",
      "02000100\n",
      "00100110\n",
      "00010110\n",
      "00001110\n",
      "00000210\n",
      "00000020\n",
      "00000001\n",
      "\n",
      "\n",
      "SXx: X components of non-diagonal canoncial generators SX:\n",
      "1111111\n",
      "\n",
      "\n",
      "Li: The leading indices of SXx:\n",
      "[0]\n",
      "\n",
      "\n",
      "Graph Search Algorithm yields the following solutions A:\n",
      "04000231\n",
      "04001231\n",
      "04010231\n",
      "04011131\n",
      "04100231\n",
      "04101131\n",
      "04110131\n",
      "04111121\n",
      "\n",
      "\n",
      "AK mod N:\n",
      "00000001\n",
      "00001111\n",
      "00010111\n",
      "00011011\n",
      "00100111\n",
      "00101011\n",
      "00110011\n",
      "00111101\n",
      "\n",
      "\n",
      "Em: drop the final column of all 1's from AK mod N:\n",
      "0000000\n",
      "0000111\n",
      "0001011\n",
      "0001101\n",
      "0010011\n",
      "0010101\n",
      "0011001\n",
      "0011110\n",
      "\n",
      "\n"
     ]
    }
   ],
   "metadata": {}
  },
  {
   "cell_type": "markdown",
   "source": [
    "## Step 3: Image of Orbit Representatives under Orbit Operator is a Basis of the Code Space\r\n",
    "\r\n",
    "We first calculate the orbit operator $O_{\\mathbf{S}_X}$, then apply $O_{\\mathbf{S}_X}$ to each element of $E_m$ to generate the codewords:"
   ],
   "metadata": {}
  },
  {
   "cell_type": "code",
   "execution_count": 12,
   "source": [
    "OSx,LIx = OrbitOperator(SX,N)\r\n",
    "print('Orbit operator OSx is the sum of the following XP operators:')\r\n",
    "print(XP2Str(OSx,N))\r\n",
    "print('\\n')\r\n",
    "print('Applying OSx to each element of Em yields the code words:')\r\n",
    "EmState = makeXP(0,Em,0)\r\n",
    "EmStr = ZMat2str(Em,2)\r\n",
    "for i in range(len(Em)):\r\n",
    "    m = EmState[i]\r\n",
    "    k = XPMul(OSx,m,N)\r\n",
    "    print(f'|k_{i}> = OSx|{EmStr[i]}> = {State2Str(k,N)}')"
   ],
   "outputs": [
    {
     "output_type": "stream",
     "name": "stdout",
     "text": [
      "Orbit operator OSx is the sum of the following XP operators:\n",
      "XP_8( 0|0000000|0000000)\n",
      "XP_8(12|1111111|0712343)\n",
      "\n",
      "\n",
      "Applying OSx to each element of Em yields the code words:\n",
      "|k_0> = OSx|0000000> = |0000000>+w12/16|1111111>\n",
      "|k_1> = OSx|0000111> = |0000111>+|1111000>\n",
      "|k_2> = OSx|0001011> = |0001011>+w14/16|1110100>\n",
      "|k_3> = OSx|0001101> = |0001101>+w12/16|1110010>\n",
      "|k_4> = OSx|0010011> = |0010011>+w12/16|1101100>\n",
      "|k_5> = OSx|0010101> = |0010101>+w10/16|1101010>\n",
      "|k_6> = OSx|0011001> = |0011001>+w8/16|1100110>\n",
      "|k_7> = OSx|0011110> = |0011110>+|1100001>\n"
     ]
    }
   ],
   "metadata": {}
  }
 ],
 "metadata": {
  "orig_nbformat": 4,
  "language_info": {
   "name": "python",
   "version": "3.8.7",
   "mimetype": "text/x-python",
   "codemirror_mode": {
    "name": "ipython",
    "version": 3
   },
   "pygments_lexer": "ipython3",
   "nbconvert_exporter": "python",
   "file_extension": ".py"
  },
  "kernelspec": {
   "name": "python3",
   "display_name": "Python 3.8.7 64-bit"
  },
  "interpreter": {
   "hash": "93ecb60a143ed30565570a02d52015ed90447d3eff4b9455aa518b6d74e1c511"
  }
 },
 "nbformat": 4,
 "nbformat_minor": 2
}